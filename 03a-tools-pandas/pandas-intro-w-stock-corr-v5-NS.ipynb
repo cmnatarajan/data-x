{
 "cells": [
  {
   "cell_type": "markdown",
   "metadata": {},
   "source": [
    "![data-x](http://oi64.tinypic.com/o858n4.jpg)\n",
    "\n",
    "---\n",
    "# Pandas Introduction \n",
    "### with Stock Data and Correlation Examples\n",
    "\n",
    "\n",
    "**Author list:** Ikhlaq Sidhu & Alexander Fred Ojala\n",
    "\n",
    "**References / Sources:** \n",
    "Includes examples from Wes McKinney and the 10min intro to Pandas\n",
    "\n",
    "\n",
    "**License Agreement:** Feel free to do whatever you want with this code\n",
    "\n",
    "___"
   ]
  },
  {
   "cell_type": "markdown",
   "metadata": {},
   "source": [
    "## What Does Pandas Do?\n",
    "<img src=\"https://github.com/ikhlaqsidhu/data-x/raw/master/imgsource/pandas-p1.jpg\">"
   ]
  },
  {
   "cell_type": "markdown",
   "metadata": {},
   "source": [
    "## What is a Pandas Table Object?\n",
    "<img src=\"https://github.com/ikhlaqsidhu/data-x/raw/master/imgsource/pandas-p2.jpg\">\n"
   ]
  },
  {
   "cell_type": "markdown",
   "metadata": {},
   "source": [
    "## This table is a dictionary of sequences (like np arrays)\n",
    "<img src=\"https://github.com/ikhlaqsidhu/data-x/raw/master/imgsource/pandas-p3.jpg\">\n"
   ]
  },
  {
   "cell_type": "markdown",
   "metadata": {},
   "source": [
    "# Import packages"
   ]
  },
  {
   "cell_type": "code",
   "execution_count": 1,
   "metadata": {
    "collapsed": true
   },
   "outputs": [],
   "source": [
    "# import packages\n",
    "\n",
    "import pandas as pd\n",
    "\n",
    "# Extra packages\n",
    "import numpy as np\n",
    "import matplotlib.pyplot as plt # for plotting\n",
    "import seaborn as sns # for plotting and styling\n",
    "\n",
    "# jupyter notebook magic to display plots in output\n",
    "%matplotlib inline\n",
    "\n",
    "plt.rcParams['figure.figsize'] = (10,6) # make the plots bigger"
   ]
  },
  {
   "cell_type": "markdown",
   "metadata": {},
   "source": [
    "# Part 1\n",
    "### Simple creation and manipulation of Pandas objects\n",
    "**Key Points:** Pandas has two / three main data types:\n",
    "* Series (similar to numpy arrays, but with index)\n",
    "* DataFrames (table or spreadsheet with Series in the columns)\n",
    "* Panels (3D version of DataFrame, not as common)"
   ]
  },
  {
   "cell_type": "markdown",
   "metadata": {},
   "source": [
    "### It is easy to create a DataFrame\n",
    "\n",
    "### We use `pd.DataFrame(**inputs**)` and can insert almost any data type as an argument\n",
    "\n",
    "**Function:** `pd.DataFrame(data=None, index=None, columns=None, dtype=None, copy=False)`\n",
    "\n",
    "Input data can be a numpy ndarray (structured or homogeneous), dict, or DataFrame. \n",
    "Dict can contain Series, arrays, constants, or list-like objects as the values."
   ]
  },
  {
   "cell_type": "code",
   "execution_count": 2,
   "metadata": {
    "collapsed": false,
    "scrolled": true
   },
   "outputs": [
    {
     "name": "stdout",
     "output_type": "stream",
     "text": [
      "[ 1.76405235  0.40015721  0.97873798]\n",
      "[ 2.2408932   1.86755799 -0.97727788]\n",
      "[ 0.95008842 -0.15135721 -0.10321885]\n"
     ]
    }
   ],
   "source": [
    "# Try it with an array\n",
    "np.random.seed(0) # set seed for reproducibility\n",
    "\n",
    "a1 = np.array(np.random.randn(3))\n",
    "a2 = np.array(np.random.randn(3))\n",
    "a3 = np.array(np.random.randn(3))\n",
    "\n",
    "print (a1)\n",
    "print (a2)\n",
    "print (a3)"
   ]
  },
  {
   "cell_type": "code",
   "execution_count": 3,
   "metadata": {
    "collapsed": false
   },
   "outputs": [
    {
     "name": "stdout",
     "output_type": "stream",
     "text": [
      "<class 'numpy.ndarray'>\n"
     ]
    }
   ],
   "source": [
    "print(type(a1))"
   ]
  },
  {
   "cell_type": "code",
   "execution_count": 4,
   "metadata": {
    "collapsed": false
   },
   "outputs": [
    {
     "name": "stdout",
     "output_type": "stream",
     "text": [
      "This is a <class 'pandas.core.frame.DataFrame'> :\n"
     ]
    },
    {
     "data": {
      "text/html": [
       "<div>\n",
       "<style>\n",
       "    .dataframe thead tr:only-child th {\n",
       "        text-align: right;\n",
       "    }\n",
       "\n",
       "    .dataframe thead th {\n",
       "        text-align: left;\n",
       "    }\n",
       "\n",
       "    .dataframe tbody tr th {\n",
       "        vertical-align: top;\n",
       "    }\n",
       "</style>\n",
       "<table border=\"1\" class=\"dataframe\">\n",
       "  <thead>\n",
       "    <tr style=\"text-align: right;\">\n",
       "      <th></th>\n",
       "      <th>0</th>\n",
       "    </tr>\n",
       "  </thead>\n",
       "  <tbody>\n",
       "    <tr>\n",
       "      <th>0</th>\n",
       "      <td>1.764052</td>\n",
       "    </tr>\n",
       "    <tr>\n",
       "      <th>1</th>\n",
       "      <td>0.400157</td>\n",
       "    </tr>\n",
       "    <tr>\n",
       "      <th>2</th>\n",
       "      <td>0.978738</td>\n",
       "    </tr>\n",
       "  </tbody>\n",
       "</table>\n",
       "</div>"
      ],
      "text/plain": [
       "          0\n",
       "0  1.764052\n",
       "1  0.400157\n",
       "2  0.978738"
      ]
     },
     "execution_count": 4,
     "metadata": {},
     "output_type": "execute_result"
    }
   ],
   "source": [
    "# Create our first DataFrame w/ an np.array - it becomes a column\n",
    "df0 = pd.DataFrame(a1)\n",
    "print (\"This is a\", type(df0), ':')\n",
    "df0"
   ]
  },
  {
   "cell_type": "code",
   "execution_count": 5,
   "metadata": {
    "collapsed": false
   },
   "outputs": [
    {
     "name": "stdout",
     "output_type": "stream",
     "text": [
      "          0\n",
      "0  1.764052\n",
      "1  0.400157\n",
      "2  0.978738\n"
     ]
    }
   ],
   "source": [
    "print(df0) # difference when you print and output of the last row"
   ]
  },
  {
   "cell_type": "code",
   "execution_count": 6,
   "metadata": {
    "collapsed": false
   },
   "outputs": [
    {
     "data": {
      "text/html": [
       "<div>\n",
       "<style>\n",
       "    .dataframe thead tr:only-child th {\n",
       "        text-align: right;\n",
       "    }\n",
       "\n",
       "    .dataframe thead th {\n",
       "        text-align: left;\n",
       "    }\n",
       "\n",
       "    .dataframe tbody tr th {\n",
       "        vertical-align: top;\n",
       "    }\n",
       "</style>\n",
       "<table border=\"1\" class=\"dataframe\">\n",
       "  <thead>\n",
       "    <tr style=\"text-align: right;\">\n",
       "      <th></th>\n",
       "      <th>0</th>\n",
       "      <th>1</th>\n",
       "      <th>2</th>\n",
       "    </tr>\n",
       "  </thead>\n",
       "  <tbody>\n",
       "    <tr>\n",
       "      <th>0</th>\n",
       "      <td>1.764052</td>\n",
       "      <td>0.400157</td>\n",
       "      <td>0.978738</td>\n",
       "    </tr>\n",
       "    <tr>\n",
       "      <th>1</th>\n",
       "      <td>2.240893</td>\n",
       "      <td>1.867558</td>\n",
       "      <td>-0.977278</td>\n",
       "    </tr>\n",
       "    <tr>\n",
       "      <th>2</th>\n",
       "      <td>0.950088</td>\n",
       "      <td>-0.151357</td>\n",
       "      <td>-0.103219</td>\n",
       "    </tr>\n",
       "  </tbody>\n",
       "</table>\n",
       "</div>"
      ],
      "text/plain": [
       "          0         1         2\n",
       "0  1.764052  0.400157  0.978738\n",
       "1  2.240893  1.867558 -0.977278\n",
       "2  0.950088 -0.151357 -0.103219"
      ]
     },
     "execution_count": 6,
     "metadata": {},
     "output_type": "execute_result"
    }
   ],
   "source": [
    "# DataFrame from list of np.arrays\n",
    "\n",
    "df0 = pd.DataFrame([a1, a2, a3])\n",
    "df0\n",
    "\n",
    "# notice that there is no column label, only integer values,\n",
    "# and the index is set automatically"
   ]
  },
  {
   "cell_type": "code",
   "execution_count": 7,
   "metadata": {
    "collapsed": false
   },
   "outputs": [
    {
     "data": {
      "text/plain": [
       "array([[ 1.76405235,  0.40015721,  0.97873798],\n",
       "       [ 2.2408932 ,  1.86755799, -0.97727788],\n",
       "       [ 0.95008842, -0.15135721, -0.10321885]])"
      ]
     },
     "execution_count": 7,
     "metadata": {},
     "output_type": "execute_result"
    }
   ],
   "source": [
    "# DataFrame from 2D np.array\n",
    "\n",
    "np.random.seed(0)\n",
    "\n",
    "ax = np.array(np.random.randn(9)).reshape(3,3)\n",
    "ax"
   ]
  },
  {
   "cell_type": "code",
   "execution_count": 8,
   "metadata": {
    "collapsed": false
   },
   "outputs": [
    {
     "data": {
      "text/html": [
       "<div>\n",
       "<style>\n",
       "    .dataframe thead tr:only-child th {\n",
       "        text-align: right;\n",
       "    }\n",
       "\n",
       "    .dataframe thead th {\n",
       "        text-align: left;\n",
       "    }\n",
       "\n",
       "    .dataframe tbody tr th {\n",
       "        vertical-align: top;\n",
       "    }\n",
       "</style>\n",
       "<table border=\"1\" class=\"dataframe\">\n",
       "  <thead>\n",
       "    <tr style=\"text-align: right;\">\n",
       "      <th></th>\n",
       "      <th>rand_normal_1</th>\n",
       "      <th>Random Again</th>\n",
       "      <th>Third</th>\n",
       "    </tr>\n",
       "  </thead>\n",
       "  <tbody>\n",
       "    <tr>\n",
       "      <th>100</th>\n",
       "      <td>1.764052</td>\n",
       "      <td>0.400157</td>\n",
       "      <td>0.978738</td>\n",
       "    </tr>\n",
       "    <tr>\n",
       "      <th>200</th>\n",
       "      <td>2.240893</td>\n",
       "      <td>1.867558</td>\n",
       "      <td>-0.977278</td>\n",
       "    </tr>\n",
       "    <tr>\n",
       "      <th>99</th>\n",
       "      <td>0.950088</td>\n",
       "      <td>-0.151357</td>\n",
       "      <td>-0.103219</td>\n",
       "    </tr>\n",
       "  </tbody>\n",
       "</table>\n",
       "</div>"
      ],
      "text/plain": [
       "     rand_normal_1  Random Again     Third\n",
       "100       1.764052      0.400157  0.978738\n",
       "200       2.240893      1.867558 -0.977278\n",
       "99        0.950088     -0.151357 -0.103219"
      ]
     },
     "execution_count": 8,
     "metadata": {},
     "output_type": "execute_result"
    }
   ],
   "source": [
    "df0 = pd.DataFrame(ax,columns=['rand_normal_1','Random Again','Third'],\n",
    "                   index=[100,200,99]) # we can also assign columns and indices, sizes have to match\n",
    "df0"
   ]
  },
  {
   "cell_type": "code",
   "execution_count": 9,
   "metadata": {
    "collapsed": false
   },
   "outputs": [
    {
     "data": {
      "text/html": [
       "<div>\n",
       "<style>\n",
       "    .dataframe thead tr:only-child th {\n",
       "        text-align: right;\n",
       "    }\n",
       "\n",
       "    .dataframe thead th {\n",
       "        text-align: left;\n",
       "    }\n",
       "\n",
       "    .dataframe tbody tr th {\n",
       "        vertical-align: top;\n",
       "    }\n",
       "</style>\n",
       "<table border=\"1\" class=\"dataframe\">\n",
       "  <thead>\n",
       "    <tr style=\"text-align: right;\">\n",
       "      <th></th>\n",
       "      <th>A</th>\n",
       "      <th>B</th>\n",
       "    </tr>\n",
       "  </thead>\n",
       "  <tbody>\n",
       "    <tr>\n",
       "      <th>0</th>\n",
       "      <td>1.764052</td>\n",
       "      <td>2.240893</td>\n",
       "    </tr>\n",
       "    <tr>\n",
       "      <th>1</th>\n",
       "      <td>0.400157</td>\n",
       "      <td>1.867558</td>\n",
       "    </tr>\n",
       "    <tr>\n",
       "      <th>2</th>\n",
       "      <td>0.978738</td>\n",
       "      <td>-0.977278</td>\n",
       "    </tr>\n",
       "  </tbody>\n",
       "</table>\n",
       "</div>"
      ],
      "text/plain": [
       "          A         B\n",
       "0  1.764052  2.240893\n",
       "1  0.400157  1.867558\n",
       "2  0.978738 -0.977278"
      ]
     },
     "execution_count": 9,
     "metadata": {},
     "output_type": "execute_result"
    }
   ],
   "source": [
    "# DataFrame from a Dictionary\n",
    "\n",
    "dict1 = {'A':a1, 'B':a2}\n",
    "df1 = pd.DataFrame(dict1) \n",
    "df1\n",
    "# note that we now have columns without assignment"
   ]
  },
  {
   "cell_type": "code",
   "execution_count": 10,
   "metadata": {
    "collapsed": false
   },
   "outputs": [
    {
     "data": {
      "text/html": [
       "<div>\n",
       "<style>\n",
       "    .dataframe thead tr:only-child th {\n",
       "        text-align: right;\n",
       "    }\n",
       "\n",
       "    .dataframe thead th {\n",
       "        text-align: left;\n",
       "    }\n",
       "\n",
       "    .dataframe tbody tr th {\n",
       "        vertical-align: top;\n",
       "    }\n",
       "</style>\n",
       "<table border=\"1\" class=\"dataframe\">\n",
       "  <thead>\n",
       "    <tr style=\"text-align: right;\">\n",
       "      <th></th>\n",
       "      <th>A</th>\n",
       "      <th>B</th>\n",
       "      <th>C</th>\n",
       "    </tr>\n",
       "  </thead>\n",
       "  <tbody>\n",
       "    <tr>\n",
       "      <th>0</th>\n",
       "      <td>1.764052</td>\n",
       "      <td>2.240893</td>\n",
       "      <td>0.950088</td>\n",
       "    </tr>\n",
       "    <tr>\n",
       "      <th>1</th>\n",
       "      <td>0.400157</td>\n",
       "      <td>1.867558</td>\n",
       "      <td>-0.151357</td>\n",
       "    </tr>\n",
       "    <tr>\n",
       "      <th>2</th>\n",
       "      <td>0.978738</td>\n",
       "      <td>-0.977278</td>\n",
       "      <td>-0.103219</td>\n",
       "    </tr>\n",
       "  </tbody>\n",
       "</table>\n",
       "</div>"
      ],
      "text/plain": [
       "          A         B         C\n",
       "0  1.764052  2.240893  0.950088\n",
       "1  0.400157  1.867558 -0.151357\n",
       "2  0.978738 -0.977278 -0.103219"
      ]
     },
     "execution_count": 10,
     "metadata": {},
     "output_type": "execute_result"
    }
   ],
   "source": [
    "# We can easily add another column (just as you add values to a dictionary)\n",
    "df1['C']=a3\n",
    "df1"
   ]
  },
  {
   "cell_type": "code",
   "execution_count": 11,
   "metadata": {
    "collapsed": false
   },
   "outputs": [
    {
     "name": "stdout",
     "output_type": "stream",
     "text": [
      "The column L is a  <class 'pandas.core.series.Series'>\n"
     ]
    },
    {
     "data": {
      "text/html": [
       "<div>\n",
       "<style>\n",
       "    .dataframe thead tr:only-child th {\n",
       "        text-align: right;\n",
       "    }\n",
       "\n",
       "    .dataframe thead th {\n",
       "        text-align: left;\n",
       "    }\n",
       "\n",
       "    .dataframe tbody tr th {\n",
       "        vertical-align: top;\n",
       "    }\n",
       "</style>\n",
       "<table border=\"1\" class=\"dataframe\">\n",
       "  <thead>\n",
       "    <tr style=\"text-align: right;\">\n",
       "      <th></th>\n",
       "      <th>A</th>\n",
       "      <th>B</th>\n",
       "      <th>C</th>\n",
       "      <th>L</th>\n",
       "    </tr>\n",
       "  </thead>\n",
       "  <tbody>\n",
       "    <tr>\n",
       "      <th>0</th>\n",
       "      <td>1.764052</td>\n",
       "      <td>2.240893</td>\n",
       "      <td>0.950088</td>\n",
       "      <td>List</td>\n",
       "    </tr>\n",
       "    <tr>\n",
       "      <th>1</th>\n",
       "      <td>0.400157</td>\n",
       "      <td>1.867558</td>\n",
       "      <td>-0.151357</td>\n",
       "      <td>3</td>\n",
       "    </tr>\n",
       "    <tr>\n",
       "      <th>2</th>\n",
       "      <td>0.978738</td>\n",
       "      <td>-0.977278</td>\n",
       "      <td>-0.103219</td>\n",
       "      <td>words</td>\n",
       "    </tr>\n",
       "  </tbody>\n",
       "</table>\n",
       "</div>"
      ],
      "text/plain": [
       "          A         B         C      L\n",
       "0  1.764052  2.240893  0.950088   List\n",
       "1  0.400157  1.867558 -0.151357      3\n",
       "2  0.978738 -0.977278 -0.103219  words"
      ]
     },
     "execution_count": 11,
     "metadata": {},
     "output_type": "execute_result"
    }
   ],
   "source": [
    "# We can add a list with strings and ints as a column \n",
    "df1['L'] = [\"List\", 3, \"words\"]\n",
    "print (\"The column L is a \",type (df1['L']))\n",
    "df1"
   ]
  },
  {
   "cell_type": "code",
   "execution_count": 12,
   "metadata": {
    "collapsed": false
   },
   "outputs": [
    {
     "name": "stdout",
     "output_type": "stream",
     "text": [
      "List\n",
      "<class 'str'>\n",
      "3\n",
      "<class 'int'>\n"
     ]
    }
   ],
   "source": [
    "print(df1['L'][0])\n",
    "print(type(df1['L'][0]))\n",
    "print(df1['L'][1])\n",
    "print(type(df1['L'][1])) # datatype not upcasted / changed as in numpy"
   ]
  },
  {
   "cell_type": "markdown",
   "metadata": {},
   "source": [
    "# Pandas Series object\n",
    "### Like an np.array, but we can combine data types and it has its own index\n",
    "Note: Every column in a DataFrame is a Series"
   ]
  },
  {
   "cell_type": "code",
   "execution_count": 13,
   "metadata": {
    "collapsed": false
   },
   "outputs": [
    {
     "name": "stdout",
     "output_type": "stream",
     "text": [
      "0     List\n",
      "1        3\n",
      "2    words\n",
      "Name: L, dtype: object\n",
      "\n",
      "<class 'pandas.core.series.Series'>\n"
     ]
    }
   ],
   "source": [
    "print(df1['L'])\n",
    "print()\n",
    "print(type(df1['L']))"
   ]
  },
  {
   "cell_type": "code",
   "execution_count": 14,
   "metadata": {
    "collapsed": false
   },
   "outputs": [
    {
     "name": "stdout",
     "output_type": "stream",
     "text": [
      "0    1.0\n",
      "1    NaN\n",
      "2    3.0\n",
      "dtype: float64\n",
      "\n",
      "a    2\n",
      "b    3\n",
      "c    4\n",
      "dtype: int64\n"
     ]
    }
   ],
   "source": [
    "# Create a Series from a Python list\n",
    "s = pd.Series([1,np.nan,3]) # automatic index, 0,1,2...\n",
    "s2 = pd.Series([2, 3, 4], index = ['a','b','c']) #specific index\n",
    "print (s)\n",
    "print()\n",
    "print (s2)"
   ]
  },
  {
   "cell_type": "code",
   "execution_count": 15,
   "metadata": {
    "collapsed": false
   },
   "outputs": [
    {
     "data": {
      "text/html": [
       "<div>\n",
       "<style>\n",
       "    .dataframe thead tr:only-child th {\n",
       "        text-align: right;\n",
       "    }\n",
       "\n",
       "    .dataframe thead th {\n",
       "        text-align: left;\n",
       "    }\n",
       "\n",
       "    .dataframe tbody tr th {\n",
       "        vertical-align: top;\n",
       "    }\n",
       "</style>\n",
       "<table border=\"1\" class=\"dataframe\">\n",
       "  <thead>\n",
       "    <tr style=\"text-align: right;\">\n",
       "      <th></th>\n",
       "      <th>A</th>\n",
       "      <th>B</th>\n",
       "      <th>C</th>\n",
       "      <th>L</th>\n",
       "      <th>S</th>\n",
       "    </tr>\n",
       "  </thead>\n",
       "  <tbody>\n",
       "    <tr>\n",
       "      <th>0</th>\n",
       "      <td>1.764052</td>\n",
       "      <td>2.240893</td>\n",
       "      <td>0.950088</td>\n",
       "      <td>List</td>\n",
       "      <td>1.0</td>\n",
       "    </tr>\n",
       "    <tr>\n",
       "      <th>1</th>\n",
       "      <td>0.400157</td>\n",
       "      <td>1.867558</td>\n",
       "      <td>-0.151357</td>\n",
       "      <td>3</td>\n",
       "      <td>NaN</td>\n",
       "    </tr>\n",
       "    <tr>\n",
       "      <th>2</th>\n",
       "      <td>0.978738</td>\n",
       "      <td>-0.977278</td>\n",
       "      <td>-0.103219</td>\n",
       "      <td>words</td>\n",
       "      <td>3.0</td>\n",
       "    </tr>\n",
       "  </tbody>\n",
       "</table>\n",
       "</div>"
      ],
      "text/plain": [
       "          A         B         C      L    S\n",
       "0  1.764052  2.240893  0.950088   List  1.0\n",
       "1  0.400157  1.867558 -0.151357      3  NaN\n",
       "2  0.978738 -0.977278 -0.103219  words  3.0"
      ]
     },
     "execution_count": 15,
     "metadata": {},
     "output_type": "execute_result"
    }
   ],
   "source": [
    "# We can add the Series s to the DataFrame above as column S\n",
    "df1['S'] = s\n",
    "df1"
   ]
  },
  {
   "cell_type": "code",
   "execution_count": 17,
   "metadata": {
    "collapsed": false
   },
   "outputs": [
    {
     "data": {
      "text/html": [
       "<div>\n",
       "<style>\n",
       "    .dataframe thead tr:only-child th {\n",
       "        text-align: right;\n",
       "    }\n",
       "\n",
       "    .dataframe thead th {\n",
       "        text-align: left;\n",
       "    }\n",
       "\n",
       "    .dataframe tbody tr th {\n",
       "        vertical-align: top;\n",
       "    }\n",
       "</style>\n",
       "<table border=\"1\" class=\"dataframe\">\n",
       "  <thead>\n",
       "    <tr style=\"text-align: right;\">\n",
       "      <th></th>\n",
       "      <th>A</th>\n",
       "      <th>B</th>\n",
       "      <th>C</th>\n",
       "      <th>L</th>\n",
       "      <th>S</th>\n",
       "      <th>S2</th>\n",
       "    </tr>\n",
       "  </thead>\n",
       "  <tbody>\n",
       "    <tr>\n",
       "      <th>0</th>\n",
       "      <td>1.764052</td>\n",
       "      <td>2.240893</td>\n",
       "      <td>0.950088</td>\n",
       "      <td>List</td>\n",
       "      <td>1.0</td>\n",
       "      <td>NaN</td>\n",
       "    </tr>\n",
       "    <tr>\n",
       "      <th>1</th>\n",
       "      <td>0.400157</td>\n",
       "      <td>1.867558</td>\n",
       "      <td>-0.151357</td>\n",
       "      <td>3</td>\n",
       "      <td>NaN</td>\n",
       "      <td>NaN</td>\n",
       "    </tr>\n",
       "    <tr>\n",
       "      <th>2</th>\n",
       "      <td>0.978738</td>\n",
       "      <td>-0.977278</td>\n",
       "      <td>-0.103219</td>\n",
       "      <td>words</td>\n",
       "      <td>3.0</td>\n",
       "      <td>NaN</td>\n",
       "    </tr>\n",
       "  </tbody>\n",
       "</table>\n",
       "</div>"
      ],
      "text/plain": [
       "          A         B         C      L    S  S2\n",
       "0  1.764052  2.240893  0.950088   List  1.0 NaN\n",
       "1  0.400157  1.867558 -0.151357      3  NaN NaN\n",
       "2  0.978738 -0.977278 -0.103219  words  3.0 NaN"
      ]
     },
     "execution_count": 17,
     "metadata": {},
     "output_type": "execute_result"
    }
   ],
   "source": [
    "# What happens if we use Series s2 \n",
    "# which has a different index?\n",
    "df1['S2']=s2\n",
    "df1"
   ]
  },
  {
   "cell_type": "code",
   "execution_count": 21,
   "metadata": {
    "collapsed": false
   },
   "outputs": [
    {
     "data": {
      "text/html": [
       "<div>\n",
       "<style>\n",
       "    .dataframe thead tr:only-child th {\n",
       "        text-align: right;\n",
       "    }\n",
       "\n",
       "    .dataframe thead th {\n",
       "        text-align: left;\n",
       "    }\n",
       "\n",
       "    .dataframe tbody tr th {\n",
       "        vertical-align: top;\n",
       "    }\n",
       "</style>\n",
       "<table border=\"1\" class=\"dataframe\">\n",
       "  <thead>\n",
       "    <tr style=\"text-align: right;\">\n",
       "      <th></th>\n",
       "      <th>A</th>\n",
       "      <th>B</th>\n",
       "      <th>C</th>\n",
       "      <th>L</th>\n",
       "      <th>S</th>\n",
       "      <th>S2</th>\n",
       "    </tr>\n",
       "  </thead>\n",
       "  <tbody>\n",
       "    <tr>\n",
       "      <th>0</th>\n",
       "      <td>1.764052</td>\n",
       "      <td>2.240893</td>\n",
       "      <td>0.950088</td>\n",
       "      <td>List</td>\n",
       "      <td>1.0</td>\n",
       "      <td>2</td>\n",
       "    </tr>\n",
       "    <tr>\n",
       "      <th>1</th>\n",
       "      <td>0.400157</td>\n",
       "      <td>1.867558</td>\n",
       "      <td>-0.151357</td>\n",
       "      <td>3</td>\n",
       "      <td>NaN</td>\n",
       "      <td>3</td>\n",
       "    </tr>\n",
       "    <tr>\n",
       "      <th>2</th>\n",
       "      <td>0.978738</td>\n",
       "      <td>-0.977278</td>\n",
       "      <td>-0.103219</td>\n",
       "      <td>words</td>\n",
       "      <td>3.0</td>\n",
       "      <td>4</td>\n",
       "    </tr>\n",
       "  </tbody>\n",
       "</table>\n",
       "</div>"
      ],
      "text/plain": [
       "          A         B         C      L    S  S2\n",
       "0  1.764052  2.240893  0.950088   List  1.0   2\n",
       "1  0.400157  1.867558 -0.151357      3  NaN   3\n",
       "2  0.978738 -0.977278 -0.103219  words  3.0   4"
      ]
     },
     "execution_count": 21,
     "metadata": {},
     "output_type": "execute_result"
    }
   ],
   "source": [
    "# possible fix\n",
    "# s2_new=s2.reset_index().drop('index',axis=1)\n",
    "# df1['S2'] = s2_new\n",
    "# df1\n",
    "# or\n",
    "# s2.index = df1.index\n",
    "# df1['S2'] = s2\n",
    "\n",
    "# or\n",
    "df1['S2'] = list(s2) # because lists don't have any indices\n",
    "df1"
   ]
  },
  {
   "cell_type": "code",
   "execution_count": 24,
   "metadata": {
    "collapsed": false
   },
   "outputs": [
    {
     "data": {
      "text/html": [
       "<div>\n",
       "<style>\n",
       "    .dataframe thead tr:only-child th {\n",
       "        text-align: right;\n",
       "    }\n",
       "\n",
       "    .dataframe thead th {\n",
       "        text-align: left;\n",
       "    }\n",
       "\n",
       "    .dataframe tbody tr th {\n",
       "        vertical-align: top;\n",
       "    }\n",
       "</style>\n",
       "<table border=\"1\" class=\"dataframe\">\n",
       "  <thead>\n",
       "    <tr style=\"text-align: right;\">\n",
       "      <th></th>\n",
       "      <th>S2</th>\n",
       "    </tr>\n",
       "  </thead>\n",
       "  <tbody>\n",
       "    <tr>\n",
       "      <th>a</th>\n",
       "      <td>2</td>\n",
       "    </tr>\n",
       "    <tr>\n",
       "      <th>b</th>\n",
       "      <td>3</td>\n",
       "    </tr>\n",
       "    <tr>\n",
       "      <th>c</th>\n",
       "      <td>4</td>\n",
       "    </tr>\n",
       "  </tbody>\n",
       "</table>\n",
       "</div>"
      ],
      "text/plain": [
       "   S2\n",
       "a   2\n",
       "b   3\n",
       "c   4"
      ]
     },
     "execution_count": 24,
     "metadata": {},
     "output_type": "execute_result"
    }
   ],
   "source": [
    "# But if we create a new dataframe with s2, \n",
    "# we can add the data but with the new index\n",
    "df2 = pd.DataFrame(s2,columns=['S2'])\n",
    "df2"
   ]
  },
  {
   "cell_type": "code",
   "execution_count": 25,
   "metadata": {
    "collapsed": false
   },
   "outputs": [
    {
     "data": {
      "text/html": [
       "<div>\n",
       "<style>\n",
       "    .dataframe thead tr:only-child th {\n",
       "        text-align: right;\n",
       "    }\n",
       "\n",
       "    .dataframe thead th {\n",
       "        text-align: left;\n",
       "    }\n",
       "\n",
       "    .dataframe tbody tr th {\n",
       "        vertical-align: top;\n",
       "    }\n",
       "</style>\n",
       "<table border=\"1\" class=\"dataframe\">\n",
       "  <thead>\n",
       "    <tr style=\"text-align: right;\">\n",
       "      <th></th>\n",
       "      <th>S2</th>\n",
       "      <th>A</th>\n",
       "      <th>B</th>\n",
       "      <th>C</th>\n",
       "    </tr>\n",
       "  </thead>\n",
       "  <tbody>\n",
       "    <tr>\n",
       "      <th>a</th>\n",
       "      <td>2</td>\n",
       "      <td>1.764052</td>\n",
       "      <td>2.240893</td>\n",
       "      <td>0.950088</td>\n",
       "    </tr>\n",
       "    <tr>\n",
       "      <th>b</th>\n",
       "      <td>3</td>\n",
       "      <td>0.400157</td>\n",
       "      <td>1.867558</td>\n",
       "      <td>-0.151357</td>\n",
       "    </tr>\n",
       "    <tr>\n",
       "      <th>c</th>\n",
       "      <td>4</td>\n",
       "      <td>0.978738</td>\n",
       "      <td>-0.977278</td>\n",
       "      <td>-0.103219</td>\n",
       "    </tr>\n",
       "  </tbody>\n",
       "</table>\n",
       "</div>"
      ],
      "text/plain": [
       "   S2         A         B         C\n",
       "a   2  1.764052  2.240893  0.950088\n",
       "b   3  0.400157  1.867558 -0.151357\n",
       "c   4  0.978738 -0.977278 -0.103219"
      ]
     },
     "execution_count": 25,
     "metadata": {},
     "output_type": "execute_result"
    }
   ],
   "source": [
    "df2['A']= a1\n",
    "df2['B']=a2\n",
    "df2['C']=a3\n",
    "df2"
   ]
  },
  {
   "cell_type": "code",
   "execution_count": 26,
   "metadata": {
    "collapsed": false
   },
   "outputs": [
    {
     "name": "stdout",
     "output_type": "stream",
     "text": [
      "   S2         A         B         C\n",
      "b   3  0.400157  1.867558 -0.151357\n",
      "c   4  0.978738 -0.977278 -0.103219\n",
      "\n",
      "   S2         A         B         C\n",
      "a   2  1.764052  2.240893  0.950088\n",
      "b   3  0.400157  1.867558 -0.151357\n"
     ]
    }
   ],
   "source": [
    "# You can extract rows by position or label\n",
    "print (df2[1:3]) # second and third row\n",
    "print()\n",
    "print (df2['a':'b']) # from a to b inclusive"
   ]
  },
  {
   "cell_type": "code",
   "execution_count": 27,
   "metadata": {
    "collapsed": false
   },
   "outputs": [
    {
     "data": {
      "text/html": [
       "<div>\n",
       "<style>\n",
       "    .dataframe thead tr:only-child th {\n",
       "        text-align: right;\n",
       "    }\n",
       "\n",
       "    .dataframe thead th {\n",
       "        text-align: left;\n",
       "    }\n",
       "\n",
       "    .dataframe tbody tr th {\n",
       "        vertical-align: top;\n",
       "    }\n",
       "</style>\n",
       "<table border=\"1\" class=\"dataframe\">\n",
       "  <thead>\n",
       "    <tr style=\"text-align: right;\">\n",
       "      <th></th>\n",
       "      <th>A</th>\n",
       "      <th>B</th>\n",
       "      <th>C</th>\n",
       "      <th>L</th>\n",
       "      <th>S</th>\n",
       "      <th>S2</th>\n",
       "    </tr>\n",
       "  </thead>\n",
       "  <tbody>\n",
       "    <tr>\n",
       "      <th>0</th>\n",
       "      <td>1.764052</td>\n",
       "      <td>2.240893</td>\n",
       "      <td>0.950088</td>\n",
       "      <td>List</td>\n",
       "      <td>1.0</td>\n",
       "      <td>2</td>\n",
       "    </tr>\n",
       "    <tr>\n",
       "      <th>1</th>\n",
       "      <td>0.400157</td>\n",
       "      <td>1.867558</td>\n",
       "      <td>-0.151357</td>\n",
       "      <td>3</td>\n",
       "      <td>NaN</td>\n",
       "      <td>3</td>\n",
       "    </tr>\n",
       "    <tr>\n",
       "      <th>2</th>\n",
       "      <td>0.978738</td>\n",
       "      <td>-0.977278</td>\n",
       "      <td>-0.103219</td>\n",
       "      <td>words</td>\n",
       "      <td>3.0</td>\n",
       "      <td>4</td>\n",
       "    </tr>\n",
       "  </tbody>\n",
       "</table>\n",
       "</div>"
      ],
      "text/plain": [
       "          A         B         C      L    S  S2\n",
       "0  1.764052  2.240893  0.950088   List  1.0   2\n",
       "1  0.400157  1.867558 -0.151357      3  NaN   3\n",
       "2  0.978738 -0.977278 -0.103219  words  3.0   4"
      ]
     },
     "execution_count": 27,
     "metadata": {},
     "output_type": "execute_result"
    }
   ],
   "source": [
    "# Back to df1\n",
    "df1"
   ]
  },
  {
   "cell_type": "code",
   "execution_count": 28,
   "metadata": {
    "collapsed": false
   },
   "outputs": [
    {
     "data": {
      "text/html": [
       "<div>\n",
       "<style>\n",
       "    .dataframe thead tr:only-child th {\n",
       "        text-align: right;\n",
       "    }\n",
       "\n",
       "    .dataframe thead th {\n",
       "        text-align: left;\n",
       "    }\n",
       "\n",
       "    .dataframe tbody tr th {\n",
       "        vertical-align: top;\n",
       "    }\n",
       "</style>\n",
       "<table border=\"1\" class=\"dataframe\">\n",
       "  <thead>\n",
       "    <tr style=\"text-align: right;\">\n",
       "      <th></th>\n",
       "      <th>A</th>\n",
       "      <th>B</th>\n",
       "      <th>C</th>\n",
       "      <th>Renamed</th>\n",
       "      <th>S</th>\n",
       "      <th>S2</th>\n",
       "    </tr>\n",
       "  </thead>\n",
       "  <tbody>\n",
       "    <tr>\n",
       "      <th>0</th>\n",
       "      <td>1.764052</td>\n",
       "      <td>2.240893</td>\n",
       "      <td>0.950088</td>\n",
       "      <td>List</td>\n",
       "      <td>1.0</td>\n",
       "      <td>2</td>\n",
       "    </tr>\n",
       "    <tr>\n",
       "      <th>1</th>\n",
       "      <td>0.400157</td>\n",
       "      <td>1.867558</td>\n",
       "      <td>-0.151357</td>\n",
       "      <td>3</td>\n",
       "      <td>NaN</td>\n",
       "      <td>3</td>\n",
       "    </tr>\n",
       "    <tr>\n",
       "      <th>2</th>\n",
       "      <td>0.978738</td>\n",
       "      <td>-0.977278</td>\n",
       "      <td>-0.103219</td>\n",
       "      <td>words</td>\n",
       "      <td>3.0</td>\n",
       "      <td>4</td>\n",
       "    </tr>\n",
       "  </tbody>\n",
       "</table>\n",
       "</div>"
      ],
      "text/plain": [
       "          A         B         C Renamed    S  S2\n",
       "0  1.764052  2.240893  0.950088    List  1.0   2\n",
       "1  0.400157  1.867558 -0.151357       3  NaN   3\n",
       "2  0.978738 -0.977278 -0.103219   words  3.0   4"
      ]
     },
     "execution_count": 28,
     "metadata": {},
     "output_type": "execute_result"
    }
   ],
   "source": [
    "# We can also rename columns\n",
    "df1 = df1.rename(columns = {'L':'Renamed'})\n",
    "df1"
   ]
  },
  {
   "cell_type": "code",
   "execution_count": 29,
   "metadata": {
    "collapsed": false
   },
   "outputs": [
    {
     "data": {
      "text/html": [
       "<div>\n",
       "<style>\n",
       "    .dataframe thead tr:only-child th {\n",
       "        text-align: right;\n",
       "    }\n",
       "\n",
       "    .dataframe thead th {\n",
       "        text-align: left;\n",
       "    }\n",
       "\n",
       "    .dataframe tbody tr th {\n",
       "        vertical-align: top;\n",
       "    }\n",
       "</style>\n",
       "<table border=\"1\" class=\"dataframe\">\n",
       "  <thead>\n",
       "    <tr style=\"text-align: right;\">\n",
       "      <th></th>\n",
       "      <th>A</th>\n",
       "      <th>B</th>\n",
       "      <th>C</th>\n",
       "      <th>Renamed</th>\n",
       "      <th>S</th>\n",
       "    </tr>\n",
       "  </thead>\n",
       "  <tbody>\n",
       "    <tr>\n",
       "      <th>0</th>\n",
       "      <td>1.764052</td>\n",
       "      <td>2.240893</td>\n",
       "      <td>0.950088</td>\n",
       "      <td>List</td>\n",
       "      <td>1.0</td>\n",
       "    </tr>\n",
       "    <tr>\n",
       "      <th>1</th>\n",
       "      <td>0.400157</td>\n",
       "      <td>1.867558</td>\n",
       "      <td>-0.151357</td>\n",
       "      <td>3</td>\n",
       "      <td>NaN</td>\n",
       "    </tr>\n",
       "    <tr>\n",
       "      <th>2</th>\n",
       "      <td>0.978738</td>\n",
       "      <td>-0.977278</td>\n",
       "      <td>-0.103219</td>\n",
       "      <td>words</td>\n",
       "      <td>3.0</td>\n",
       "    </tr>\n",
       "  </tbody>\n",
       "</table>\n",
       "</div>"
      ],
      "text/plain": [
       "          A         B         C Renamed    S\n",
       "0  1.764052  2.240893  0.950088    List  1.0\n",
       "1  0.400157  1.867558 -0.151357       3  NaN\n",
       "2  0.978738 -0.977278 -0.103219   words  3.0"
      ]
     },
     "execution_count": 29,
     "metadata": {},
     "output_type": "execute_result"
    }
   ],
   "source": [
    "# We can delete columns\n",
    "del df1['S2']\n",
    "df1"
   ]
  },
  {
   "cell_type": "code",
   "execution_count": 30,
   "metadata": {
    "collapsed": false
   },
   "outputs": [
    {
     "data": {
      "text/html": [
       "<div>\n",
       "<style>\n",
       "    .dataframe thead tr:only-child th {\n",
       "        text-align: right;\n",
       "    }\n",
       "\n",
       "    .dataframe thead th {\n",
       "        text-align: left;\n",
       "    }\n",
       "\n",
       "    .dataframe tbody tr th {\n",
       "        vertical-align: top;\n",
       "    }\n",
       "</style>\n",
       "<table border=\"1\" class=\"dataframe\">\n",
       "  <thead>\n",
       "    <tr style=\"text-align: right;\">\n",
       "      <th></th>\n",
       "      <th>B</th>\n",
       "      <th>C</th>\n",
       "      <th>Renamed</th>\n",
       "      <th>S</th>\n",
       "    </tr>\n",
       "  </thead>\n",
       "  <tbody>\n",
       "    <tr>\n",
       "      <th>0</th>\n",
       "      <td>2.240893</td>\n",
       "      <td>0.950088</td>\n",
       "      <td>List</td>\n",
       "      <td>1.0</td>\n",
       "    </tr>\n",
       "    <tr>\n",
       "      <th>1</th>\n",
       "      <td>1.867558</td>\n",
       "      <td>-0.151357</td>\n",
       "      <td>3</td>\n",
       "      <td>NaN</td>\n",
       "    </tr>\n",
       "    <tr>\n",
       "      <th>2</th>\n",
       "      <td>-0.977278</td>\n",
       "      <td>-0.103219</td>\n",
       "      <td>words</td>\n",
       "      <td>3.0</td>\n",
       "    </tr>\n",
       "  </tbody>\n",
       "</table>\n",
       "</div>"
      ],
      "text/plain": [
       "          B         C Renamed    S\n",
       "0  2.240893  0.950088    List  1.0\n",
       "1  1.867558 -0.151357       3  NaN\n",
       "2 -0.977278 -0.103219   words  3.0"
      ]
     },
     "execution_count": 30,
     "metadata": {},
     "output_type": "execute_result"
    }
   ],
   "source": [
    "# or drop columns\n",
    "df1.drop('A',axis=1) # does not change df1 if we don't set inplace=True"
   ]
  },
  {
   "cell_type": "code",
   "execution_count": 31,
   "metadata": {
    "collapsed": false
   },
   "outputs": [
    {
     "data": {
      "text/html": [
       "<div>\n",
       "<style>\n",
       "    .dataframe thead tr:only-child th {\n",
       "        text-align: right;\n",
       "    }\n",
       "\n",
       "    .dataframe thead th {\n",
       "        text-align: left;\n",
       "    }\n",
       "\n",
       "    .dataframe tbody tr th {\n",
       "        vertical-align: top;\n",
       "    }\n",
       "</style>\n",
       "<table border=\"1\" class=\"dataframe\">\n",
       "  <thead>\n",
       "    <tr style=\"text-align: right;\">\n",
       "      <th></th>\n",
       "      <th>A</th>\n",
       "      <th>B</th>\n",
       "      <th>C</th>\n",
       "      <th>Renamed</th>\n",
       "      <th>S</th>\n",
       "    </tr>\n",
       "  </thead>\n",
       "  <tbody>\n",
       "    <tr>\n",
       "      <th>0</th>\n",
       "      <td>1.764052</td>\n",
       "      <td>2.240893</td>\n",
       "      <td>0.950088</td>\n",
       "      <td>List</td>\n",
       "      <td>1.0</td>\n",
       "    </tr>\n",
       "    <tr>\n",
       "      <th>1</th>\n",
       "      <td>0.400157</td>\n",
       "      <td>1.867558</td>\n",
       "      <td>-0.151357</td>\n",
       "      <td>3</td>\n",
       "      <td>NaN</td>\n",
       "    </tr>\n",
       "    <tr>\n",
       "      <th>2</th>\n",
       "      <td>0.978738</td>\n",
       "      <td>-0.977278</td>\n",
       "      <td>-0.103219</td>\n",
       "      <td>words</td>\n",
       "      <td>3.0</td>\n",
       "    </tr>\n",
       "  </tbody>\n",
       "</table>\n",
       "</div>"
      ],
      "text/plain": [
       "          A         B         C Renamed    S\n",
       "0  1.764052  2.240893  0.950088    List  1.0\n",
       "1  0.400157  1.867558 -0.151357       3  NaN\n",
       "2  0.978738 -0.977278 -0.103219   words  3.0"
      ]
     },
     "execution_count": 31,
     "metadata": {},
     "output_type": "execute_result"
    }
   ],
   "source": [
    "df1"
   ]
  },
  {
   "cell_type": "code",
   "execution_count": 42,
   "metadata": {
    "collapsed": false
   },
   "outputs": [
    {
     "data": {
      "text/html": [
       "<div>\n",
       "<style>\n",
       "    .dataframe thead tr:only-child th {\n",
       "        text-align: right;\n",
       "    }\n",
       "\n",
       "    .dataframe thead th {\n",
       "        text-align: left;\n",
       "    }\n",
       "\n",
       "    .dataframe tbody tr th {\n",
       "        vertical-align: top;\n",
       "    }\n",
       "</style>\n",
       "<table border=\"1\" class=\"dataframe\">\n",
       "  <thead>\n",
       "    <tr style=\"text-align: right;\">\n",
       "      <th></th>\n",
       "      <th>A</th>\n",
       "      <th>B</th>\n",
       "      <th>C</th>\n",
       "      <th>Renamed</th>\n",
       "      <th>S</th>\n",
       "    </tr>\n",
       "  </thead>\n",
       "  <tbody>\n",
       "    <tr>\n",
       "      <th>1</th>\n",
       "      <td>0.400157</td>\n",
       "      <td>1.867558</td>\n",
       "      <td>-0.151357</td>\n",
       "      <td>3</td>\n",
       "      <td>NaN</td>\n",
       "    </tr>\n",
       "    <tr>\n",
       "      <th>2</th>\n",
       "      <td>0.978738</td>\n",
       "      <td>-0.977278</td>\n",
       "      <td>-0.103219</td>\n",
       "      <td>words</td>\n",
       "      <td>3.0</td>\n",
       "    </tr>\n",
       "  </tbody>\n",
       "</table>\n",
       "</div>"
      ],
      "text/plain": [
       "          A         B         C Renamed    S\n",
       "1  0.400157  1.867558 -0.151357       3  NaN\n",
       "2  0.978738 -0.977278 -0.103219   words  3.0"
      ]
     },
     "execution_count": 42,
     "metadata": {},
     "output_type": "execute_result"
    }
   ],
   "source": [
    "# or drop rows\n",
    "df1.drop(0)"
   ]
  },
  {
   "cell_type": "code",
   "execution_count": 41,
   "metadata": {
    "collapsed": true
   },
   "outputs": [],
   "source": [
    "df1.drop?"
   ]
  },
  {
   "cell_type": "code",
   "execution_count": 43,
   "metadata": {
    "collapsed": false
   },
   "outputs": [
    {
     "data": {
      "text/plain": [
       "0    1.764052\n",
       "1    0.400157\n",
       "2    0.978738\n",
       "Name: A, dtype: float64"
      ]
     },
     "execution_count": 43,
     "metadata": {},
     "output_type": "execute_result"
    }
   ],
   "source": [
    "# Example: view only one column\n",
    "df1['A']"
   ]
  },
  {
   "cell_type": "code",
   "execution_count": 47,
   "metadata": {
    "collapsed": false
   },
   "outputs": [
    {
     "data": {
      "text/html": [
       "<div>\n",
       "<style>\n",
       "    .dataframe thead tr:only-child th {\n",
       "        text-align: right;\n",
       "    }\n",
       "\n",
       "    .dataframe thead th {\n",
       "        text-align: left;\n",
       "    }\n",
       "\n",
       "    .dataframe tbody tr th {\n",
       "        vertical-align: top;\n",
       "    }\n",
       "</style>\n",
       "<table border=\"1\" class=\"dataframe\">\n",
       "  <thead>\n",
       "    <tr style=\"text-align: right;\">\n",
       "      <th></th>\n",
       "      <th>A</th>\n",
       "      <th>C</th>\n",
       "    </tr>\n",
       "  </thead>\n",
       "  <tbody>\n",
       "    <tr>\n",
       "      <th>0</th>\n",
       "      <td>1.764052</td>\n",
       "      <td>0.950088</td>\n",
       "    </tr>\n",
       "    <tr>\n",
       "      <th>1</th>\n",
       "      <td>0.400157</td>\n",
       "      <td>-0.151357</td>\n",
       "    </tr>\n",
       "    <tr>\n",
       "      <th>2</th>\n",
       "      <td>0.978738</td>\n",
       "      <td>-0.103219</td>\n",
       "    </tr>\n",
       "  </tbody>\n",
       "</table>\n",
       "</div>"
      ],
      "text/plain": [
       "          A         C\n",
       "0  1.764052  0.950088\n",
       "1  0.400157 -0.151357\n",
       "2  0.978738 -0.103219"
      ]
     },
     "execution_count": 47,
     "metadata": {},
     "output_type": "execute_result"
    }
   ],
   "source": [
    "# Or view several column\n",
    "df1[['A','C']]"
   ]
  },
  {
   "cell_type": "markdown",
   "metadata": {},
   "source": [
    "# Other ways of slicing\n",
    "In the 10 min Pandas Guide, you will see many ways to view, slice a dataframe\n",
    "\n",
    "* view/slice by rows, eg `df[1:3]`, etc.\n",
    "\n",
    "* view by index location, see `df.iloc` (iloc)\n",
    "\n",
    "* view by ranges of labels, ie index label 2 to 5, or dates feb 3 to feb 25, see `df.loc` (loc)\n",
    " \n",
    "* view a single row by the index `df.xs` (xs) or `df.ix` (ix)\n",
    "\n",
    "* filtering rows that have certain conditions\n",
    "* add column\n",
    "* add row\n",
    "\n",
    "* How to change the index\n",
    "\n",
    "and more..."
   ]
  },
  {
   "cell_type": "code",
   "execution_count": 59,
   "metadata": {
    "collapsed": false
   },
   "outputs": [
    {
     "name": "stdout",
     "output_type": "stream",
     "text": [
      "          A         B         C Renamed    S\n",
      "0  1.764052  2.240893  0.950088    List  1.0\n",
      "1  0.400157  1.867558 -0.151357       3  NaN\n"
     ]
    }
   ],
   "source": [
    "print (df1[0:2])  # ok\n",
    "# df1[1]  # not ok"
   ]
  },
  {
   "cell_type": "code",
   "execution_count": 60,
   "metadata": {
    "collapsed": false
   },
   "outputs": [
    {
     "data": {
      "text/plain": [
       "A    1.76405\n",
       "B    2.24089\n",
       "S          1\n",
       "Name: 0, dtype: object"
      ]
     },
     "execution_count": 60,
     "metadata": {},
     "output_type": "execute_result"
    }
   ],
   "source": [
    "df1.loc[0,['A','B','S']] # first row, three columns"
   ]
  },
  {
   "cell_type": "code",
   "execution_count": 61,
   "metadata": {
    "collapsed": false
   },
   "outputs": [
    {
     "name": "stdout",
     "output_type": "stream",
     "text": [
      "          A         B         C Renamed    S\n",
      "0  1.764052  2.240893  0.950088    List  1.0\n"
     ]
    }
   ],
   "source": [
    "print (df1[0:2][0:1]) # slice of the DataFrame returned"
   ]
  },
  {
   "cell_type": "code",
   "execution_count": 62,
   "metadata": {
    "collapsed": false
   },
   "outputs": [
    {
     "data": {
      "text/plain": [
       "A           1.76405\n",
       "B           2.24089\n",
       "C          0.950088\n",
       "Renamed        List\n",
       "S                 1\n",
       "Name: 0, dtype: object"
      ]
     },
     "execution_count": 62,
     "metadata": {},
     "output_type": "execute_result"
    }
   ],
   "source": [
    "df1.xs(0)"
   ]
  },
  {
   "cell_type": "markdown",
   "metadata": {},
   "source": [
    "# Part 2\n",
    "## Finance example: Large Data Frames\n",
    "\n",
    "### Now, lets get some data in CSV format.\n",
    "\n",
    "See https://www.quantshare.com/sa-43-10-ways-to-download-historical-stock-quotes-data-for-free\n"
   ]
  },
  {
   "cell_type": "code",
   "execution_count": 72,
   "metadata": {
    "collapsed": true
   },
   "outputs": [],
   "source": [
    "# We can download data from the web by using pd.read_csv\n",
    "# A CSV file is a comma seperated file\n",
    "# We can use this 'pd.read_csv' method with urls that host csv files\n",
    "\n",
    "dfg = pd.read_csv('https://www.google.com/finance/historical?output=csv&q=googl') # Google stock data\n",
    "dfa = pd.read_csv('https://www.google.com/finance/historical?output=csv&q=aapl') # Apple stock data"
   ]
  },
  {
   "cell_type": "code",
   "execution_count": 73,
   "metadata": {
    "collapsed": false
   },
   "outputs": [
    {
     "data": {
      "text/html": [
       "<div>\n",
       "<style>\n",
       "    .dataframe thead tr:only-child th {\n",
       "        text-align: right;\n",
       "    }\n",
       "\n",
       "    .dataframe thead th {\n",
       "        text-align: left;\n",
       "    }\n",
       "\n",
       "    .dataframe tbody tr th {\n",
       "        vertical-align: top;\n",
       "    }\n",
       "</style>\n",
       "<table border=\"1\" class=\"dataframe\">\n",
       "  <thead>\n",
       "    <tr style=\"text-align: right;\">\n",
       "      <th></th>\n",
       "      <th>Date</th>\n",
       "      <th>Open</th>\n",
       "      <th>High</th>\n",
       "      <th>Low</th>\n",
       "      <th>Close</th>\n",
       "      <th>Volume</th>\n",
       "    </tr>\n",
       "  </thead>\n",
       "  <tbody>\n",
       "    <tr>\n",
       "      <th>0</th>\n",
       "      <td>27-Oct-17</td>\n",
       "      <td>1030.99</td>\n",
       "      <td>1063.62</td>\n",
       "      <td>1026.85</td>\n",
       "      <td>1033.67</td>\n",
       "      <td>5184143</td>\n",
       "    </tr>\n",
       "    <tr>\n",
       "      <th>1</th>\n",
       "      <td>26-Oct-17</td>\n",
       "      <td>998.47</td>\n",
       "      <td>1006.51</td>\n",
       "      <td>990.47</td>\n",
       "      <td>991.42</td>\n",
       "      <td>2369838</td>\n",
       "    </tr>\n",
       "    <tr>\n",
       "      <th>2</th>\n",
       "      <td>25-Oct-17</td>\n",
       "      <td>986.27</td>\n",
       "      <td>994.43</td>\n",
       "      <td>977.72</td>\n",
       "      <td>991.46</td>\n",
       "      <td>1528710</td>\n",
       "    </tr>\n",
       "    <tr>\n",
       "      <th>3</th>\n",
       "      <td>24-Oct-17</td>\n",
       "      <td>986.50</td>\n",
       "      <td>989.26</td>\n",
       "      <td>977.08</td>\n",
       "      <td>988.49</td>\n",
       "      <td>1445129</td>\n",
       "    </tr>\n",
       "    <tr>\n",
       "      <th>4</th>\n",
       "      <td>23-Oct-17</td>\n",
       "      <td>1005.18</td>\n",
       "      <td>1005.79</td>\n",
       "      <td>983.10</td>\n",
       "      <td>985.54</td>\n",
       "      <td>1639294</td>\n",
       "    </tr>\n",
       "  </tbody>\n",
       "</table>\n",
       "</div>"
      ],
      "text/plain": [
       "        Date     Open     High      Low    Close   Volume\n",
       "0  27-Oct-17  1030.99  1063.62  1026.85  1033.67  5184143\n",
       "1  26-Oct-17   998.47  1006.51   990.47   991.42  2369838\n",
       "2  25-Oct-17   986.27   994.43   977.72   991.46  1528710\n",
       "3  24-Oct-17   986.50   989.26   977.08   988.49  1445129\n",
       "4  23-Oct-17  1005.18  1005.79   983.10   985.54  1639294"
      ]
     },
     "execution_count": 73,
     "metadata": {},
     "output_type": "execute_result"
    }
   ],
   "source": [
    "dfg.head() # show first five values"
   ]
  },
  {
   "cell_type": "code",
   "execution_count": 74,
   "metadata": {
    "collapsed": false
   },
   "outputs": [
    {
     "data": {
      "text/html": [
       "<div>\n",
       "<style>\n",
       "    .dataframe thead tr:only-child th {\n",
       "        text-align: right;\n",
       "    }\n",
       "\n",
       "    .dataframe thead th {\n",
       "        text-align: left;\n",
       "    }\n",
       "\n",
       "    .dataframe tbody tr th {\n",
       "        vertical-align: top;\n",
       "    }\n",
       "</style>\n",
       "<table border=\"1\" class=\"dataframe\">\n",
       "  <thead>\n",
       "    <tr style=\"text-align: right;\">\n",
       "      <th></th>\n",
       "      <th>Date</th>\n",
       "      <th>Open</th>\n",
       "      <th>High</th>\n",
       "      <th>Low</th>\n",
       "      <th>Close</th>\n",
       "      <th>Volume</th>\n",
       "    </tr>\n",
       "  </thead>\n",
       "  <tbody>\n",
       "    <tr>\n",
       "      <th>248</th>\n",
       "      <td>2-Nov-16</td>\n",
       "      <td>806.76</td>\n",
       "      <td>806.76</td>\n",
       "      <td>785.00</td>\n",
       "      <td>788.42</td>\n",
       "      <td>2350736</td>\n",
       "    </tr>\n",
       "    <tr>\n",
       "      <th>249</th>\n",
       "      <td>1-Nov-16</td>\n",
       "      <td>810.87</td>\n",
       "      <td>813.96</td>\n",
       "      <td>798.26</td>\n",
       "      <td>805.48</td>\n",
       "      <td>2355890</td>\n",
       "    </tr>\n",
       "    <tr>\n",
       "      <th>250</th>\n",
       "      <td>31-Oct-16</td>\n",
       "      <td>822.43</td>\n",
       "      <td>822.63</td>\n",
       "      <td>808.00</td>\n",
       "      <td>809.90</td>\n",
       "      <td>2242679</td>\n",
       "    </tr>\n",
       "  </tbody>\n",
       "</table>\n",
       "</div>"
      ],
      "text/plain": [
       "          Date    Open    High     Low   Close   Volume\n",
       "248   2-Nov-16  806.76  806.76  785.00  788.42  2350736\n",
       "249   1-Nov-16  810.87  813.96  798.26  805.48  2355890\n",
       "250  31-Oct-16  822.43  822.63  808.00  809.90  2242679"
      ]
     },
     "execution_count": 74,
     "metadata": {},
     "output_type": "execute_result"
    }
   ],
   "source": [
    "dfg.tail(3) # last three"
   ]
  },
  {
   "cell_type": "code",
   "execution_count": 75,
   "metadata": {
    "collapsed": false
   },
   "outputs": [
    {
     "data": {
      "text/plain": [
       "Index(['Date', 'Open', 'High', 'Low', 'Close', 'Volume'], dtype='object')"
      ]
     },
     "execution_count": 75,
     "metadata": {},
     "output_type": "execute_result"
    }
   ],
   "source": [
    "dfg.columns # returns columns, can be used to loop over"
   ]
  },
  {
   "cell_type": "code",
   "execution_count": 76,
   "metadata": {
    "collapsed": false
   },
   "outputs": [
    {
     "data": {
      "text/plain": [
       "RangeIndex(start=0, stop=251, step=1)"
      ]
     },
     "execution_count": 76,
     "metadata": {},
     "output_type": "execute_result"
    }
   ],
   "source": [
    "dfg.index # return"
   ]
  },
  {
   "cell_type": "code",
   "execution_count": 77,
   "metadata": {
    "collapsed": false
   },
   "outputs": [
    {
     "name": "stdout",
     "output_type": "stream",
     "text": [
      "<class 'pandas.core.frame.DataFrame'>\n",
      "RangeIndex: 251 entries, 0 to 250\n",
      "Data columns (total 6 columns):\n",
      "Date      251 non-null object\n",
      "Open      251 non-null float64\n",
      "High      251 non-null float64\n",
      "Low       251 non-null float64\n",
      "Close     251 non-null float64\n",
      "Volume    251 non-null int64\n",
      "dtypes: float64(4), int64(1), object(1)\n",
      "memory usage: 11.8+ KB\n"
     ]
    }
   ],
   "source": [
    "dfg.info()"
   ]
  },
  {
   "cell_type": "markdown",
   "metadata": {},
   "source": [
    "# Convert the index to pandas datetime object"
   ]
  },
  {
   "cell_type": "code",
   "execution_count": 78,
   "metadata": {
    "collapsed": false
   },
   "outputs": [
    {
     "data": {
      "text/plain": [
       "str"
      ]
     },
     "execution_count": 78,
     "metadata": {},
     "output_type": "execute_result"
    }
   ],
   "source": [
    "type(dfg['Date'][0])"
   ]
  },
  {
   "cell_type": "code",
   "execution_count": 79,
   "metadata": {
    "collapsed": true
   },
   "outputs": [],
   "source": [
    "dfg.index = pd.to_datetime(dfg['Date']) # set index"
   ]
  },
  {
   "cell_type": "code",
   "execution_count": 80,
   "metadata": {
    "collapsed": false
   },
   "outputs": [
    {
     "name": "stdout",
     "output_type": "stream",
     "text": [
      "<class 'pandas.core.frame.DataFrame'>\n",
      "DatetimeIndex: 251 entries, 2017-10-27 to 2016-10-31\n",
      "Data columns (total 6 columns):\n",
      "Date      251 non-null object\n",
      "Open      251 non-null float64\n",
      "High      251 non-null float64\n",
      "Low       251 non-null float64\n",
      "Close     251 non-null float64\n",
      "Volume    251 non-null int64\n",
      "dtypes: float64(4), int64(1), object(1)\n",
      "memory usage: 13.7+ KB\n"
     ]
    }
   ],
   "source": [
    "dfg.info()"
   ]
  },
  {
   "cell_type": "code",
   "execution_count": 81,
   "metadata": {
    "collapsed": true
   },
   "outputs": [],
   "source": [
    "dfg.drop(['Date'],axis=1,inplace=True)"
   ]
  },
  {
   "cell_type": "code",
   "execution_count": 82,
   "metadata": {
    "collapsed": false
   },
   "outputs": [
    {
     "data": {
      "text/html": [
       "<div>\n",
       "<style>\n",
       "    .dataframe thead tr:only-child th {\n",
       "        text-align: right;\n",
       "    }\n",
       "\n",
       "    .dataframe thead th {\n",
       "        text-align: left;\n",
       "    }\n",
       "\n",
       "    .dataframe tbody tr th {\n",
       "        vertical-align: top;\n",
       "    }\n",
       "</style>\n",
       "<table border=\"1\" class=\"dataframe\">\n",
       "  <thead>\n",
       "    <tr style=\"text-align: right;\">\n",
       "      <th></th>\n",
       "      <th>Open</th>\n",
       "      <th>High</th>\n",
       "      <th>Low</th>\n",
       "      <th>Close</th>\n",
       "      <th>Volume</th>\n",
       "    </tr>\n",
       "    <tr>\n",
       "      <th>Date</th>\n",
       "      <th></th>\n",
       "      <th></th>\n",
       "      <th></th>\n",
       "      <th></th>\n",
       "      <th></th>\n",
       "    </tr>\n",
       "  </thead>\n",
       "  <tbody>\n",
       "    <tr>\n",
       "      <th>2017-10-27</th>\n",
       "      <td>1030.99</td>\n",
       "      <td>1063.62</td>\n",
       "      <td>1026.85</td>\n",
       "      <td>1033.67</td>\n",
       "      <td>5184143</td>\n",
       "    </tr>\n",
       "    <tr>\n",
       "      <th>2017-10-26</th>\n",
       "      <td>998.47</td>\n",
       "      <td>1006.51</td>\n",
       "      <td>990.47</td>\n",
       "      <td>991.42</td>\n",
       "      <td>2369838</td>\n",
       "    </tr>\n",
       "    <tr>\n",
       "      <th>2017-10-25</th>\n",
       "      <td>986.27</td>\n",
       "      <td>994.43</td>\n",
       "      <td>977.72</td>\n",
       "      <td>991.46</td>\n",
       "      <td>1528710</td>\n",
       "    </tr>\n",
       "    <tr>\n",
       "      <th>2017-10-24</th>\n",
       "      <td>986.50</td>\n",
       "      <td>989.26</td>\n",
       "      <td>977.08</td>\n",
       "      <td>988.49</td>\n",
       "      <td>1445129</td>\n",
       "    </tr>\n",
       "    <tr>\n",
       "      <th>2017-10-23</th>\n",
       "      <td>1005.18</td>\n",
       "      <td>1005.79</td>\n",
       "      <td>983.10</td>\n",
       "      <td>985.54</td>\n",
       "      <td>1639294</td>\n",
       "    </tr>\n",
       "  </tbody>\n",
       "</table>\n",
       "</div>"
      ],
      "text/plain": [
       "               Open     High      Low    Close   Volume\n",
       "Date                                                   \n",
       "2017-10-27  1030.99  1063.62  1026.85  1033.67  5184143\n",
       "2017-10-26   998.47  1006.51   990.47   991.42  2369838\n",
       "2017-10-25   986.27   994.43   977.72   991.46  1528710\n",
       "2017-10-24   986.50   989.26   977.08   988.49  1445129\n",
       "2017-10-23  1005.18  1005.79   983.10   985.54  1639294"
      ]
     },
     "execution_count": 82,
     "metadata": {},
     "output_type": "execute_result"
    }
   ],
   "source": [
    "dfg.head()"
   ]
  },
  {
   "cell_type": "code",
   "execution_count": 83,
   "metadata": {
    "collapsed": false
   },
   "outputs": [
    {
     "name": "stdout",
     "output_type": "stream",
     "text": [
      "<class 'pandas._libs.tslib.Timestamp'>\n"
     ]
    },
    {
     "data": {
      "text/plain": [
       "Timestamp('2017-10-27 00:00:00')"
      ]
     },
     "execution_count": 83,
     "metadata": {},
     "output_type": "execute_result"
    }
   ],
   "source": [
    "print(type(dfg.index[0]))\n",
    "dfg.index[0]"
   ]
  },
  {
   "cell_type": "code",
   "execution_count": 84,
   "metadata": {
    "collapsed": false
   },
   "outputs": [
    {
     "data": {
      "text/html": [
       "<div>\n",
       "<style>\n",
       "    .dataframe thead tr:only-child th {\n",
       "        text-align: right;\n",
       "    }\n",
       "\n",
       "    .dataframe thead th {\n",
       "        text-align: left;\n",
       "    }\n",
       "\n",
       "    .dataframe tbody tr th {\n",
       "        vertical-align: top;\n",
       "    }\n",
       "</style>\n",
       "<table border=\"1\" class=\"dataframe\">\n",
       "  <thead>\n",
       "    <tr style=\"text-align: right;\">\n",
       "      <th></th>\n",
       "      <th>Open</th>\n",
       "      <th>High</th>\n",
       "      <th>Low</th>\n",
       "      <th>Close</th>\n",
       "      <th>Volume</th>\n",
       "    </tr>\n",
       "    <tr>\n",
       "      <th>Date</th>\n",
       "      <th></th>\n",
       "      <th></th>\n",
       "      <th></th>\n",
       "      <th></th>\n",
       "      <th></th>\n",
       "    </tr>\n",
       "  </thead>\n",
       "  <tbody>\n",
       "    <tr>\n",
       "      <th>2017-04-07</th>\n",
       "      <td>845.00</td>\n",
       "      <td>845.88</td>\n",
       "      <td>837.30</td>\n",
       "      <td>842.10</td>\n",
       "      <td>1111610</td>\n",
       "    </tr>\n",
       "    <tr>\n",
       "      <th>2017-04-06</th>\n",
       "      <td>849.50</td>\n",
       "      <td>853.59</td>\n",
       "      <td>844.00</td>\n",
       "      <td>845.10</td>\n",
       "      <td>1533564</td>\n",
       "    </tr>\n",
       "    <tr>\n",
       "      <th>2017-04-05</th>\n",
       "      <td>854.71</td>\n",
       "      <td>860.59</td>\n",
       "      <td>847.52</td>\n",
       "      <td>848.91</td>\n",
       "      <td>1855153</td>\n",
       "    </tr>\n",
       "    <tr>\n",
       "      <th>2017-04-04</th>\n",
       "      <td>848.00</td>\n",
       "      <td>853.00</td>\n",
       "      <td>847.50</td>\n",
       "      <td>852.57</td>\n",
       "      <td>1348494</td>\n",
       "    </tr>\n",
       "    <tr>\n",
       "      <th>2017-04-03</th>\n",
       "      <td>848.75</td>\n",
       "      <td>859.00</td>\n",
       "      <td>847.53</td>\n",
       "      <td>856.75</td>\n",
       "      <td>1969402</td>\n",
       "    </tr>\n",
       "  </tbody>\n",
       "</table>\n",
       "</div>"
      ],
      "text/plain": [
       "              Open    High     Low   Close   Volume\n",
       "Date                                               \n",
       "2017-04-07  845.00  845.88  837.30  842.10  1111610\n",
       "2017-04-06  849.50  853.59  844.00  845.10  1533564\n",
       "2017-04-05  854.71  860.59  847.52  848.91  1855153\n",
       "2017-04-04  848.00  853.00  847.50  852.57  1348494\n",
       "2017-04-03  848.75  859.00  847.53  856.75  1969402"
      ]
     },
     "execution_count": 84,
     "metadata": {},
     "output_type": "execute_result"
    }
   ],
   "source": [
    "dfg['2017-04-07':'2017-04-01']"
   ]
  },
  {
   "cell_type": "markdown",
   "metadata": {},
   "source": [
    "# Attributes & general statitics of a Pandas DataFrame"
   ]
  },
  {
   "cell_type": "code",
   "execution_count": 85,
   "metadata": {
    "collapsed": false
   },
   "outputs": [
    {
     "data": {
      "text/plain": [
       "(251, 5)"
      ]
     },
     "execution_count": 85,
     "metadata": {},
     "output_type": "execute_result"
    }
   ],
   "source": [
    "dfg.shape # 249 business days last year"
   ]
  },
  {
   "cell_type": "code",
   "execution_count": 86,
   "metadata": {
    "collapsed": false
   },
   "outputs": [
    {
     "data": {
      "text/plain": [
       "Index(['Open', 'High', 'Low', 'Close', 'Volume'], dtype='object')"
      ]
     },
     "execution_count": 86,
     "metadata": {},
     "output_type": "execute_result"
    }
   ],
   "source": [
    "dfg.columns"
   ]
  },
  {
   "cell_type": "code",
   "execution_count": 87,
   "metadata": {
    "collapsed": false
   },
   "outputs": [
    {
     "data": {
      "text/plain": [
       "1255"
      ]
     },
     "execution_count": 87,
     "metadata": {},
     "output_type": "execute_result"
    }
   ],
   "source": [
    "dfg.size"
   ]
  },
  {
   "cell_type": "code",
   "execution_count": 88,
   "metadata": {
    "collapsed": false
   },
   "outputs": [
    {
     "data": {
      "text/html": [
       "<div>\n",
       "<style>\n",
       "    .dataframe thead tr:only-child th {\n",
       "        text-align: right;\n",
       "    }\n",
       "\n",
       "    .dataframe thead th {\n",
       "        text-align: left;\n",
       "    }\n",
       "\n",
       "    .dataframe tbody tr th {\n",
       "        vertical-align: top;\n",
       "    }\n",
       "</style>\n",
       "<table border=\"1\" class=\"dataframe\">\n",
       "  <thead>\n",
       "    <tr style=\"text-align: right;\">\n",
       "      <th></th>\n",
       "      <th>Open</th>\n",
       "      <th>High</th>\n",
       "      <th>Low</th>\n",
       "      <th>Close</th>\n",
       "      <th>Volume</th>\n",
       "    </tr>\n",
       "  </thead>\n",
       "  <tbody>\n",
       "    <tr>\n",
       "      <th>count</th>\n",
       "      <td>251.000000</td>\n",
       "      <td>251.000000</td>\n",
       "      <td>251.000000</td>\n",
       "      <td>251.000000</td>\n",
       "      <td>2.510000e+02</td>\n",
       "    </tr>\n",
       "    <tr>\n",
       "      <th>mean</th>\n",
       "      <td>895.825857</td>\n",
       "      <td>901.436175</td>\n",
       "      <td>889.438606</td>\n",
       "      <td>895.834343</td>\n",
       "      <td>1.706495e+06</td>\n",
       "    </tr>\n",
       "    <tr>\n",
       "      <th>std</th>\n",
       "      <td>72.996676</td>\n",
       "      <td>73.570304</td>\n",
       "      <td>72.773291</td>\n",
       "      <td>73.323386</td>\n",
       "      <td>7.622144e+05</td>\n",
       "    </tr>\n",
       "    <tr>\n",
       "      <th>min</th>\n",
       "      <td>761.900000</td>\n",
       "      <td>770.500000</td>\n",
       "      <td>743.590000</td>\n",
       "      <td>753.220000</td>\n",
       "      <td>6.135490e+05</td>\n",
       "    </tr>\n",
       "    <tr>\n",
       "      <th>25%</th>\n",
       "      <td>830.765000</td>\n",
       "      <td>834.450000</td>\n",
       "      <td>824.855000</td>\n",
       "      <td>829.970000</td>\n",
       "      <td>1.275832e+06</td>\n",
       "    </tr>\n",
       "    <tr>\n",
       "      <th>50%</th>\n",
       "      <td>924.150000</td>\n",
       "      <td>933.360000</td>\n",
       "      <td>918.630000</td>\n",
       "      <td>923.590000</td>\n",
       "      <td>1.505486e+06</td>\n",
       "    </tr>\n",
       "    <tr>\n",
       "      <th>75%</th>\n",
       "      <td>957.235000</td>\n",
       "      <td>961.995000</td>\n",
       "      <td>948.655000</td>\n",
       "      <td>958.475000</td>\n",
       "      <td>1.875032e+06</td>\n",
       "    </tr>\n",
       "    <tr>\n",
       "      <th>max</th>\n",
       "      <td>1030.990000</td>\n",
       "      <td>1063.620000</td>\n",
       "      <td>1026.850000</td>\n",
       "      <td>1033.670000</td>\n",
       "      <td>5.933602e+06</td>\n",
       "    </tr>\n",
       "  </tbody>\n",
       "</table>\n",
       "</div>"
      ],
      "text/plain": [
       "              Open         High          Low        Close        Volume\n",
       "count   251.000000   251.000000   251.000000   251.000000  2.510000e+02\n",
       "mean    895.825857   901.436175   889.438606   895.834343  1.706495e+06\n",
       "std      72.996676    73.570304    72.773291    73.323386  7.622144e+05\n",
       "min     761.900000   770.500000   743.590000   753.220000  6.135490e+05\n",
       "25%     830.765000   834.450000   824.855000   829.970000  1.275832e+06\n",
       "50%     924.150000   933.360000   918.630000   923.590000  1.505486e+06\n",
       "75%     957.235000   961.995000   948.655000   958.475000  1.875032e+06\n",
       "max    1030.990000  1063.620000  1026.850000  1033.670000  5.933602e+06"
      ]
     },
     "execution_count": 88,
     "metadata": {},
     "output_type": "execute_result"
    }
   ],
   "source": [
    "# Some general statistics\n",
    "\n",
    "dfg.describe()"
   ]
  },
  {
   "cell_type": "code",
   "execution_count": 91,
   "metadata": {
    "collapsed": false
   },
   "outputs": [
    {
     "data": {
      "text/plain": [
       "Date\n",
       "2017-10-27    1030.99\n",
       "2017-10-26     998.47\n",
       "2017-10-25     986.27\n",
       "2017-10-24     986.50\n",
       "2017-10-23    1005.18\n",
       "2017-10-20    1007.05\n",
       "2017-10-19    1004.75\n",
       "2017-10-18    1011.05\n",
       "2017-10-17    1007.44\n",
       "2017-10-16    1009.63\n",
       "2017-10-13    1009.11\n",
       "2017-10-12    1003.84\n",
       "2017-10-11     989.04\n",
       "2017-10-10     995.30\n",
       "2017-10-09     995.00\n",
       "2017-07-24     994.10\n",
       "2017-07-21     989.00\n",
       "2017-07-20     997.00\n",
       "2017-07-19     990.01\n",
       "2017-06-26     990.00\n",
       "2017-06-09    1005.49\n",
       "2017-06-08    1004.23\n",
       "2017-06-07     998.82\n",
       "2017-06-06    1003.31\n",
       "2017-06-05     997.89\n",
       "2017-06-02     988.59\n",
       "2017-06-01     990.96\n",
       "2017-05-31     996.21\n",
       "2017-05-30     992.50\n",
       "2017-05-26     992.00\n",
       "Name: Open, dtype: float64"
      ]
     },
     "execution_count": 91,
     "metadata": {},
     "output_type": "execute_result"
    }
   ],
   "source": [
    "# Boolean indexing\n",
    "dfg['Open'][dfg['Open']>980] # check what dates the opening"
   ]
  },
  {
   "cell_type": "code",
   "execution_count": 92,
   "metadata": {
    "collapsed": false
   },
   "outputs": [
    {
     "data": {
      "text/html": [
       "<div>\n",
       "<style>\n",
       "    .dataframe thead tr:only-child th {\n",
       "        text-align: right;\n",
       "    }\n",
       "\n",
       "    .dataframe thead th {\n",
       "        text-align: left;\n",
       "    }\n",
       "\n",
       "    .dataframe tbody tr th {\n",
       "        vertical-align: top;\n",
       "    }\n",
       "</style>\n",
       "<table border=\"1\" class=\"dataframe\">\n",
       "  <thead>\n",
       "    <tr style=\"text-align: right;\">\n",
       "      <th></th>\n",
       "      <th>Open</th>\n",
       "      <th>High</th>\n",
       "      <th>Low</th>\n",
       "      <th>Close</th>\n",
       "    </tr>\n",
       "    <tr>\n",
       "      <th>Date</th>\n",
       "      <th></th>\n",
       "      <th></th>\n",
       "      <th></th>\n",
       "      <th></th>\n",
       "    </tr>\n",
       "  </thead>\n",
       "  <tbody>\n",
       "    <tr>\n",
       "      <th>2017-10-27</th>\n",
       "      <td>1030.99</td>\n",
       "      <td>1063.62</td>\n",
       "      <td>1026.85</td>\n",
       "      <td>1033.67</td>\n",
       "    </tr>\n",
       "    <tr>\n",
       "      <th>2017-10-26</th>\n",
       "      <td>998.47</td>\n",
       "      <td>1006.51</td>\n",
       "      <td>990.47</td>\n",
       "      <td>991.42</td>\n",
       "    </tr>\n",
       "    <tr>\n",
       "      <th>2017-10-25</th>\n",
       "      <td>986.27</td>\n",
       "      <td>994.43</td>\n",
       "      <td>NaN</td>\n",
       "      <td>991.46</td>\n",
       "    </tr>\n",
       "  </tbody>\n",
       "</table>\n",
       "</div>"
      ],
      "text/plain": [
       "               Open     High      Low    Close\n",
       "Date                                          \n",
       "2017-10-27  1030.99  1063.62  1026.85  1033.67\n",
       "2017-10-26   998.47  1006.51   990.47   991.42\n",
       "2017-10-25   986.27   994.43      NaN   991.46"
      ]
     },
     "execution_count": 92,
     "metadata": {},
     "output_type": "execute_result"
    }
   ],
   "source": [
    "# Check where Open, High, Low and Close where greater than 980\n",
    "dfg[dfg>980].drop('Volume',axis=1).head(3)"
   ]
  },
  {
   "cell_type": "code",
   "execution_count": 93,
   "metadata": {
    "collapsed": false
   },
   "outputs": [
    {
     "data": {
      "text/html": [
       "<div>\n",
       "<style>\n",
       "    .dataframe thead tr:only-child th {\n",
       "        text-align: right;\n",
       "    }\n",
       "\n",
       "    .dataframe thead th {\n",
       "        text-align: left;\n",
       "    }\n",
       "\n",
       "    .dataframe tbody tr th {\n",
       "        vertical-align: top;\n",
       "    }\n",
       "</style>\n",
       "<table border=\"1\" class=\"dataframe\">\n",
       "  <thead>\n",
       "    <tr style=\"text-align: right;\">\n",
       "      <th></th>\n",
       "      <th>Open</th>\n",
       "      <th>High</th>\n",
       "      <th>Low</th>\n",
       "      <th>Close</th>\n",
       "    </tr>\n",
       "    <tr>\n",
       "      <th>Date</th>\n",
       "      <th></th>\n",
       "      <th></th>\n",
       "      <th></th>\n",
       "      <th></th>\n",
       "    </tr>\n",
       "  </thead>\n",
       "  <tbody>\n",
       "    <tr>\n",
       "      <th>2017-10-27</th>\n",
       "      <td>1030.99</td>\n",
       "      <td>1063.62</td>\n",
       "      <td>1026.85</td>\n",
       "      <td>1033.67</td>\n",
       "    </tr>\n",
       "    <tr>\n",
       "      <th>2017-10-26</th>\n",
       "      <td>998.47</td>\n",
       "      <td>1006.51</td>\n",
       "      <td>990.47</td>\n",
       "      <td>991.42</td>\n",
       "    </tr>\n",
       "    <tr>\n",
       "      <th>2017-10-23</th>\n",
       "      <td>1005.18</td>\n",
       "      <td>1005.79</td>\n",
       "      <td>983.10</td>\n",
       "      <td>985.54</td>\n",
       "    </tr>\n",
       "  </tbody>\n",
       "</table>\n",
       "</div>"
      ],
      "text/plain": [
       "               Open     High      Low    Close\n",
       "Date                                          \n",
       "2017-10-27  1030.99  1063.62  1026.85  1033.67\n",
       "2017-10-26   998.47  1006.51   990.47   991.42\n",
       "2017-10-23  1005.18  1005.79   983.10   985.54"
      ]
     },
     "execution_count": 93,
     "metadata": {},
     "output_type": "execute_result"
    }
   ],
   "source": [
    "# drop na\n",
    "dfg[dfg>980].drop('Volume',axis=1).dropna().head(3)"
   ]
  },
  {
   "cell_type": "code",
   "execution_count": 94,
   "metadata": {
    "collapsed": false
   },
   "outputs": [
    {
     "name": "stdout",
     "output_type": "stream",
     "text": [
      "<class 'numpy.ndarray'>\n",
      "\n"
     ]
    },
    {
     "data": {
      "text/plain": [
       "array([[  1.03099000e+03,   1.06362000e+03,   1.02685000e+03,\n",
       "          1.03367000e+03,   5.18414300e+06],\n",
       "       [  9.98470000e+02,   1.00651000e+03,   9.90470000e+02,\n",
       "          9.91420000e+02,   2.36983800e+06],\n",
       "       [  9.86270000e+02,   9.94430000e+02,   9.77720000e+02,\n",
       "          9.91460000e+02,   1.52871000e+06],\n",
       "       ..., \n",
       "       [  8.06760000e+02,   8.06760000e+02,   7.85000000e+02,\n",
       "          7.88420000e+02,   2.35073600e+06],\n",
       "       [  8.10870000e+02,   8.13960000e+02,   7.98260000e+02,\n",
       "          8.05480000e+02,   2.35589000e+06],\n",
       "       [  8.22430000e+02,   8.22630000e+02,   8.08000000e+02,\n",
       "          8.09900000e+02,   2.24267900e+06]])"
      ]
     },
     "execution_count": 94,
     "metadata": {},
     "output_type": "execute_result"
    }
   ],
   "source": [
    "# If you want the values in an np array\n",
    "npg = dfg.values\n",
    "print(type(npg))\n",
    "print()\n",
    "npg"
   ]
  },
  {
   "cell_type": "markdown",
   "metadata": {},
   "source": [
    "### Selecting or Viewing Data within a DataFrame\n",
    "Note: While standard Python / Numpy expressions for selecting and setting are intuitive and come in handy for interactive work, for production code, we recommend the optimized pandas data access methods, .at, .iat, .loc, .iloc and .ix. (from 10 min guide to Pandas)\n"
   ]
  },
  {
   "cell_type": "code",
   "execution_count": 95,
   "metadata": {
    "collapsed": false
   },
   "outputs": [
    {
     "data": {
      "text/plain": [
       "Date\n",
       "2017-10-27    1033.67\n",
       "2017-10-26     991.42\n",
       "2017-10-25     991.46\n",
       "2017-10-24     988.49\n",
       "2017-10-23     985.54\n",
       "Name: Close, dtype: float64"
      ]
     },
     "execution_count": 95,
     "metadata": {},
     "output_type": "execute_result"
    }
   ],
   "source": [
    "# Lets print the five first Close prices for Google\n",
    "# This is a new Series (like a new table)\n",
    "dfg['Close'][0:5]"
   ]
  },
  {
   "cell_type": "code",
   "execution_count": 96,
   "metadata": {
    "collapsed": false
   },
   "outputs": [
    {
     "data": {
      "text/html": [
       "<div>\n",
       "<style>\n",
       "    .dataframe thead tr:only-child th {\n",
       "        text-align: right;\n",
       "    }\n",
       "\n",
       "    .dataframe thead th {\n",
       "        text-align: left;\n",
       "    }\n",
       "\n",
       "    .dataframe tbody tr th {\n",
       "        vertical-align: top;\n",
       "    }\n",
       "</style>\n",
       "<table border=\"1\" class=\"dataframe\">\n",
       "  <thead>\n",
       "    <tr style=\"text-align: right;\">\n",
       "      <th></th>\n",
       "      <th>Close</th>\n",
       "      <th>High</th>\n",
       "    </tr>\n",
       "    <tr>\n",
       "      <th>Date</th>\n",
       "      <th></th>\n",
       "      <th></th>\n",
       "    </tr>\n",
       "  </thead>\n",
       "  <tbody>\n",
       "    <tr>\n",
       "      <th>2017-10-27</th>\n",
       "      <td>1033.67</td>\n",
       "      <td>1063.62</td>\n",
       "    </tr>\n",
       "    <tr>\n",
       "      <th>2017-10-26</th>\n",
       "      <td>991.42</td>\n",
       "      <td>1006.51</td>\n",
       "    </tr>\n",
       "    <tr>\n",
       "      <th>2017-10-25</th>\n",
       "      <td>991.46</td>\n",
       "      <td>994.43</td>\n",
       "    </tr>\n",
       "  </tbody>\n",
       "</table>\n",
       "</div>"
      ],
      "text/plain": [
       "              Close     High\n",
       "Date                        \n",
       "2017-10-27  1033.67  1063.62\n",
       "2017-10-26   991.42  1006.51\n",
       "2017-10-25   991.46   994.43"
      ]
     },
     "execution_count": 96,
     "metadata": {},
     "output_type": "execute_result"
    }
   ],
   "source": [
    "# Lets print the 2 column, and top 3 values\n",
    "dfg[['Close','High']][0:3]"
   ]
  },
  {
   "cell_type": "code",
   "execution_count": 97,
   "metadata": {
    "collapsed": false
   },
   "outputs": [
    {
     "data": {
      "text/html": [
       "<div>\n",
       "<style>\n",
       "    .dataframe thead tr:only-child th {\n",
       "        text-align: right;\n",
       "    }\n",
       "\n",
       "    .dataframe thead th {\n",
       "        text-align: left;\n",
       "    }\n",
       "\n",
       "    .dataframe tbody tr th {\n",
       "        vertical-align: top;\n",
       "    }\n",
       "</style>\n",
       "<table border=\"1\" class=\"dataframe\">\n",
       "  <thead>\n",
       "    <tr style=\"text-align: right;\">\n",
       "      <th></th>\n",
       "      <th>Open</th>\n",
       "      <th>High</th>\n",
       "      <th>Low</th>\n",
       "      <th>Close</th>\n",
       "      <th>Volume</th>\n",
       "    </tr>\n",
       "    <tr>\n",
       "      <th>Date</th>\n",
       "      <th></th>\n",
       "      <th></th>\n",
       "      <th></th>\n",
       "      <th></th>\n",
       "      <th></th>\n",
       "    </tr>\n",
       "  </thead>\n",
       "  <tbody>\n",
       "    <tr>\n",
       "      <th>2017-10-26</th>\n",
       "      <td>998.47</td>\n",
       "      <td>1006.51</td>\n",
       "      <td>990.47</td>\n",
       "      <td>991.42</td>\n",
       "      <td>2369838</td>\n",
       "    </tr>\n",
       "    <tr>\n",
       "      <th>2017-10-25</th>\n",
       "      <td>986.27</td>\n",
       "      <td>994.43</td>\n",
       "      <td>977.72</td>\n",
       "      <td>991.46</td>\n",
       "      <td>1528710</td>\n",
       "    </tr>\n",
       "    <tr>\n",
       "      <th>2017-10-24</th>\n",
       "      <td>986.50</td>\n",
       "      <td>989.26</td>\n",
       "      <td>977.08</td>\n",
       "      <td>988.49</td>\n",
       "      <td>1445129</td>\n",
       "    </tr>\n",
       "    <tr>\n",
       "      <th>2017-10-23</th>\n",
       "      <td>1005.18</td>\n",
       "      <td>1005.79</td>\n",
       "      <td>983.10</td>\n",
       "      <td>985.54</td>\n",
       "      <td>1639294</td>\n",
       "    </tr>\n",
       "  </tbody>\n",
       "</table>\n",
       "</div>"
      ],
      "text/plain": [
       "               Open     High     Low   Close   Volume\n",
       "Date                                                 \n",
       "2017-10-26   998.47  1006.51  990.47  991.42  2369838\n",
       "2017-10-25   986.27   994.43  977.72  991.46  1528710\n",
       "2017-10-24   986.50   989.26  977.08  988.49  1445129\n",
       "2017-10-23  1005.18  1005.79  983.10  985.54  1639294"
      ]
     },
     "execution_count": 97,
     "metadata": {},
     "output_type": "execute_result"
    }
   ],
   "source": [
    "# A slice: by rows (row numbers)\n",
    "dfg[1:5] # 2nd to 5th element"
   ]
  },
  {
   "cell_type": "markdown",
   "metadata": {},
   "source": [
    "## .loc()"
   ]
  },
  {
   "cell_type": "code",
   "execution_count": 98,
   "metadata": {
    "collapsed": false
   },
   "outputs": [
    {
     "data": {
      "text/html": [
       "<div>\n",
       "<style>\n",
       "    .dataframe thead tr:only-child th {\n",
       "        text-align: right;\n",
       "    }\n",
       "\n",
       "    .dataframe thead th {\n",
       "        text-align: left;\n",
       "    }\n",
       "\n",
       "    .dataframe tbody tr th {\n",
       "        vertical-align: top;\n",
       "    }\n",
       "</style>\n",
       "<table border=\"1\" class=\"dataframe\">\n",
       "  <thead>\n",
       "    <tr style=\"text-align: right;\">\n",
       "      <th></th>\n",
       "      <th>Open</th>\n",
       "      <th>High</th>\n",
       "      <th>Low</th>\n",
       "      <th>Close</th>\n",
       "    </tr>\n",
       "    <tr>\n",
       "      <th>Date</th>\n",
       "      <th></th>\n",
       "      <th></th>\n",
       "      <th></th>\n",
       "      <th></th>\n",
       "    </tr>\n",
       "  </thead>\n",
       "  <tbody>\n",
       "    <tr>\n",
       "      <th>2017-08-31</th>\n",
       "      <td>946.30</td>\n",
       "      <td>957.20</td>\n",
       "      <td>946.25</td>\n",
       "      <td>955.24</td>\n",
       "    </tr>\n",
       "    <tr>\n",
       "      <th>2017-08-30</th>\n",
       "      <td>935.67</td>\n",
       "      <td>945.86</td>\n",
       "      <td>934.05</td>\n",
       "      <td>943.63</td>\n",
       "    </tr>\n",
       "    <tr>\n",
       "      <th>2017-08-29</th>\n",
       "      <td>919.95</td>\n",
       "      <td>938.19</td>\n",
       "      <td>919.31</td>\n",
       "      <td>935.75</td>\n",
       "    </tr>\n",
       "    <tr>\n",
       "      <th>2017-08-28</th>\n",
       "      <td>931.88</td>\n",
       "      <td>934.85</td>\n",
       "      <td>926.11</td>\n",
       "      <td>928.13</td>\n",
       "    </tr>\n",
       "    <tr>\n",
       "      <th>2017-08-25</th>\n",
       "      <td>939.21</td>\n",
       "      <td>940.73</td>\n",
       "      <td>930.10</td>\n",
       "      <td>930.50</td>\n",
       "    </tr>\n",
       "    <tr>\n",
       "      <th>2017-08-24</th>\n",
       "      <td>943.71</td>\n",
       "      <td>946.31</td>\n",
       "      <td>930.74</td>\n",
       "      <td>936.89</td>\n",
       "    </tr>\n",
       "    <tr>\n",
       "      <th>2017-08-23</th>\n",
       "      <td>937.00</td>\n",
       "      <td>945.42</td>\n",
       "      <td>935.24</td>\n",
       "      <td>942.58</td>\n",
       "    </tr>\n",
       "    <tr>\n",
       "      <th>2017-08-22</th>\n",
       "      <td>926.96</td>\n",
       "      <td>941.96</td>\n",
       "      <td>926.17</td>\n",
       "      <td>940.40</td>\n",
       "    </tr>\n",
       "    <tr>\n",
       "      <th>2017-08-21</th>\n",
       "      <td>925.77</td>\n",
       "      <td>928.25</td>\n",
       "      <td>918.60</td>\n",
       "      <td>920.87</td>\n",
       "    </tr>\n",
       "  </tbody>\n",
       "</table>\n",
       "</div>"
      ],
      "text/plain": [
       "              Open    High     Low   Close\n",
       "Date                                      \n",
       "2017-08-31  946.30  957.20  946.25  955.24\n",
       "2017-08-30  935.67  945.86  934.05  943.63\n",
       "2017-08-29  919.95  938.19  919.31  935.75\n",
       "2017-08-28  931.88  934.85  926.11  928.13\n",
       "2017-08-25  939.21  940.73  930.10  930.50\n",
       "2017-08-24  943.71  946.31  930.74  936.89\n",
       "2017-08-23  937.00  945.42  935.24  942.58\n",
       "2017-08-22  926.96  941.96  926.17  940.40\n",
       "2017-08-21  925.77  928.25  918.60  920.87"
      ]
     },
     "execution_count": 98,
     "metadata": {},
     "output_type": "execute_result"
    }
   ],
   "source": [
    "# Getting a cross section with .loc - BY VALUES of the index and columns\n",
    "# df.loc[a:b, x:y], by rows and column location\n",
    "\n",
    "# Note: You have to know indices and columns\n",
    "\n",
    "dfg.loc['2017-08-31':'2017-08-21','Open':'Close']"
   ]
  },
  {
   "cell_type": "markdown",
   "metadata": {},
   "source": [
    "## .iloc()"
   ]
  },
  {
   "cell_type": "code",
   "execution_count": 99,
   "metadata": {
    "collapsed": false
   },
   "outputs": [
    {
     "data": {
      "text/plain": [
       "Index(['Open', 'High', 'Low', 'Close', 'Volume'], dtype='object')"
      ]
     },
     "execution_count": 99,
     "metadata": {},
     "output_type": "execute_result"
    }
   ],
   "source": [
    "dfg.columns"
   ]
  },
  {
   "cell_type": "code",
   "execution_count": 100,
   "metadata": {
    "collapsed": false
   },
   "outputs": [
    {
     "data": {
      "text/html": [
       "<div>\n",
       "<style>\n",
       "    .dataframe thead tr:only-child th {\n",
       "        text-align: right;\n",
       "    }\n",
       "\n",
       "    .dataframe thead th {\n",
       "        text-align: left;\n",
       "    }\n",
       "\n",
       "    .dataframe tbody tr th {\n",
       "        vertical-align: top;\n",
       "    }\n",
       "</style>\n",
       "<table border=\"1\" class=\"dataframe\">\n",
       "  <thead>\n",
       "    <tr style=\"text-align: right;\">\n",
       "      <th></th>\n",
       "      <th>Close</th>\n",
       "      <th>Volume</th>\n",
       "    </tr>\n",
       "    <tr>\n",
       "      <th>Date</th>\n",
       "      <th></th>\n",
       "      <th></th>\n",
       "    </tr>\n",
       "  </thead>\n",
       "  <tbody>\n",
       "    <tr>\n",
       "      <th>2017-10-26</th>\n",
       "      <td>991.42</td>\n",
       "      <td>2369838</td>\n",
       "    </tr>\n",
       "    <tr>\n",
       "      <th>2017-10-25</th>\n",
       "      <td>991.46</td>\n",
       "      <td>1528710</td>\n",
       "    </tr>\n",
       "    <tr>\n",
       "      <th>2017-10-24</th>\n",
       "      <td>988.49</td>\n",
       "      <td>1445129</td>\n",
       "    </tr>\n",
       "  </tbody>\n",
       "</table>\n",
       "</div>"
      ],
      "text/plain": [
       "             Close   Volume\n",
       "Date                       \n",
       "2017-10-26  991.42  2369838\n",
       "2017-10-25  991.46  1528710\n",
       "2017-10-24  988.49  1445129"
      ]
     },
     "execution_count": 100,
     "metadata": {},
     "output_type": "execute_result"
    }
   ],
   "source": [
    "# .iloc slicing at specific location - BY POSITION in the table\n",
    "# Recall:\n",
    "# dfg[a:b] by rows\n",
    "# dfg[[col]] or df[[col1, col2]] by columns\n",
    "# df.loc[a:b, x:y], by index and column values + location\n",
    "# df.iloc[3:5,0:2], numeric position in table\n",
    "\n",
    "dfg.iloc[1:4,3:5] # 2nd to 4th row, 4th to 5th column"
   ]
  },
  {
   "cell_type": "code",
   "execution_count": 101,
   "metadata": {
    "collapsed": false
   },
   "outputs": [
    {
     "name": "stdout",
     "output_type": "stream",
     "text": [
      "Open          986.50\n",
      "High          989.26\n",
      "Low           977.08\n",
      "Close         988.49\n",
      "Volume    1445129.00\n",
      "Name: 2017-10-24 00:00:00, dtype: float64\n"
     ]
    }
   ],
   "source": [
    "# Data only from row with index value '3'\n",
    "print (dfg.iloc[3])"
   ]
  },
  {
   "cell_type": "code",
   "execution_count": 102,
   "metadata": {
    "collapsed": false
   },
   "outputs": [
    {
     "data": {
      "text/html": [
       "<div>\n",
       "<style>\n",
       "    .dataframe thead tr:only-child th {\n",
       "        text-align: right;\n",
       "    }\n",
       "\n",
       "    .dataframe thead th {\n",
       "        text-align: left;\n",
       "    }\n",
       "\n",
       "    .dataframe tbody tr th {\n",
       "        vertical-align: top;\n",
       "    }\n",
       "</style>\n",
       "<table border=\"1\" class=\"dataframe\">\n",
       "  <thead>\n",
       "    <tr style=\"text-align: right;\">\n",
       "      <th></th>\n",
       "      <th>Open</th>\n",
       "      <th>Low</th>\n",
       "    </tr>\n",
       "    <tr>\n",
       "      <th>Date</th>\n",
       "      <th></th>\n",
       "      <th></th>\n",
       "    </tr>\n",
       "  </thead>\n",
       "  <tbody>\n",
       "    <tr>\n",
       "      <th>2017-10-26</th>\n",
       "      <td>998.47</td>\n",
       "      <td>990.47</td>\n",
       "    </tr>\n",
       "    <tr>\n",
       "      <th>2017-10-25</th>\n",
       "      <td>986.27</td>\n",
       "      <td>977.72</td>\n",
       "    </tr>\n",
       "    <tr>\n",
       "      <th>2017-10-23</th>\n",
       "      <td>1005.18</td>\n",
       "      <td>983.10</td>\n",
       "    </tr>\n",
       "  </tbody>\n",
       "</table>\n",
       "</div>"
      ],
      "text/plain": [
       "               Open     Low\n",
       "Date                       \n",
       "2017-10-26   998.47  990.47\n",
       "2017-10-25   986.27  977.72\n",
       "2017-10-23  1005.18  983.10"
      ]
     },
     "execution_count": 102,
     "metadata": {},
     "output_type": "execute_result"
    }
   ],
   "source": [
    "# iloc will accept 'lists' of position numbers\n",
    "dfg.iloc[[1,2,4],[0,2]]"
   ]
  },
  {
   "cell_type": "code",
   "execution_count": 103,
   "metadata": {
    "collapsed": false
   },
   "outputs": [
    {
     "data": {
      "text/html": [
       "<div>\n",
       "<style>\n",
       "    .dataframe thead tr:only-child th {\n",
       "        text-align: right;\n",
       "    }\n",
       "\n",
       "    .dataframe thead th {\n",
       "        text-align: left;\n",
       "    }\n",
       "\n",
       "    .dataframe tbody tr th {\n",
       "        vertical-align: top;\n",
       "    }\n",
       "</style>\n",
       "<table border=\"1\" class=\"dataframe\">\n",
       "  <thead>\n",
       "    <tr style=\"text-align: right;\">\n",
       "      <th></th>\n",
       "      <th>Open</th>\n",
       "      <th>High</th>\n",
       "      <th>Low</th>\n",
       "      <th>Close</th>\n",
       "      <th>Volume</th>\n",
       "    </tr>\n",
       "    <tr>\n",
       "      <th>Date</th>\n",
       "      <th></th>\n",
       "      <th></th>\n",
       "      <th></th>\n",
       "      <th></th>\n",
       "      <th></th>\n",
       "    </tr>\n",
       "  </thead>\n",
       "  <tbody>\n",
       "    <tr>\n",
       "      <th>2017-10-26</th>\n",
       "      <td>998.47</td>\n",
       "      <td>1006.51</td>\n",
       "      <td>990.47</td>\n",
       "      <td>991.42</td>\n",
       "      <td>2369838</td>\n",
       "    </tr>\n",
       "    <tr>\n",
       "      <th>2017-10-25</th>\n",
       "      <td>986.27</td>\n",
       "      <td>994.43</td>\n",
       "      <td>977.72</td>\n",
       "      <td>991.46</td>\n",
       "      <td>1528710</td>\n",
       "    </tr>\n",
       "  </tbody>\n",
       "</table>\n",
       "</div>"
      ],
      "text/plain": [
       "              Open     High     Low   Close   Volume\n",
       "Date                                                \n",
       "2017-10-26  998.47  1006.51  990.47  991.42  2369838\n",
       "2017-10-25  986.27   994.43  977.72  991.46  1528710"
      ]
     },
     "execution_count": 103,
     "metadata": {},
     "output_type": "execute_result"
    }
   ],
   "source": [
    "# iloc will accept a range with ':', just like numpy\n",
    "dfg.iloc[1:3,:]"
   ]
  },
  {
   "cell_type": "code",
   "execution_count": 104,
   "metadata": {
    "collapsed": false
   },
   "outputs": [
    {
     "name": "stdout",
     "output_type": "stream",
     "text": [
      "994.43\n",
      "994.43\n"
     ]
    }
   ],
   "source": [
    "# Can also return specific value\n",
    "print (dfg.iloc[2,1])\n",
    "# same as above but faster for one single scaler value\n",
    "print (dfg.iat[2,1])"
   ]
  },
  {
   "cell_type": "code",
   "execution_count": 105,
   "metadata": {
    "collapsed": true
   },
   "outputs": [],
   "source": [
    "?dfg.iat() #fast integer location scalar accessor"
   ]
  },
  {
   "cell_type": "markdown",
   "metadata": {},
   "source": [
    "### More Basic Statistics"
   ]
  },
  {
   "cell_type": "code",
   "execution_count": 106,
   "metadata": {
    "collapsed": false
   },
   "outputs": [
    {
     "data": {
      "text/html": [
       "<div>\n",
       "<style>\n",
       "    .dataframe thead tr:only-child th {\n",
       "        text-align: right;\n",
       "    }\n",
       "\n",
       "    .dataframe thead th {\n",
       "        text-align: left;\n",
       "    }\n",
       "\n",
       "    .dataframe tbody tr th {\n",
       "        vertical-align: top;\n",
       "    }\n",
       "</style>\n",
       "<table border=\"1\" class=\"dataframe\">\n",
       "  <thead>\n",
       "    <tr style=\"text-align: right;\">\n",
       "      <th></th>\n",
       "      <th>Open</th>\n",
       "      <th>High</th>\n",
       "      <th>Low</th>\n",
       "      <th>Close</th>\n",
       "      <th>Volume</th>\n",
       "    </tr>\n",
       "  </thead>\n",
       "  <tbody>\n",
       "    <tr>\n",
       "      <th>count</th>\n",
       "      <td>251.000000</td>\n",
       "      <td>251.000000</td>\n",
       "      <td>251.000000</td>\n",
       "      <td>251.000000</td>\n",
       "      <td>2.510000e+02</td>\n",
       "    </tr>\n",
       "    <tr>\n",
       "      <th>mean</th>\n",
       "      <td>895.825857</td>\n",
       "      <td>901.436175</td>\n",
       "      <td>889.438606</td>\n",
       "      <td>895.834343</td>\n",
       "      <td>1.706495e+06</td>\n",
       "    </tr>\n",
       "    <tr>\n",
       "      <th>std</th>\n",
       "      <td>72.996676</td>\n",
       "      <td>73.570304</td>\n",
       "      <td>72.773291</td>\n",
       "      <td>73.323386</td>\n",
       "      <td>7.622144e+05</td>\n",
       "    </tr>\n",
       "    <tr>\n",
       "      <th>min</th>\n",
       "      <td>761.900000</td>\n",
       "      <td>770.500000</td>\n",
       "      <td>743.590000</td>\n",
       "      <td>753.220000</td>\n",
       "      <td>6.135490e+05</td>\n",
       "    </tr>\n",
       "    <tr>\n",
       "      <th>25%</th>\n",
       "      <td>830.765000</td>\n",
       "      <td>834.450000</td>\n",
       "      <td>824.855000</td>\n",
       "      <td>829.970000</td>\n",
       "      <td>1.275832e+06</td>\n",
       "    </tr>\n",
       "    <tr>\n",
       "      <th>50%</th>\n",
       "      <td>924.150000</td>\n",
       "      <td>933.360000</td>\n",
       "      <td>918.630000</td>\n",
       "      <td>923.590000</td>\n",
       "      <td>1.505486e+06</td>\n",
       "    </tr>\n",
       "    <tr>\n",
       "      <th>75%</th>\n",
       "      <td>957.235000</td>\n",
       "      <td>961.995000</td>\n",
       "      <td>948.655000</td>\n",
       "      <td>958.475000</td>\n",
       "      <td>1.875032e+06</td>\n",
       "    </tr>\n",
       "    <tr>\n",
       "      <th>max</th>\n",
       "      <td>1030.990000</td>\n",
       "      <td>1063.620000</td>\n",
       "      <td>1026.850000</td>\n",
       "      <td>1033.670000</td>\n",
       "      <td>5.933602e+06</td>\n",
       "    </tr>\n",
       "  </tbody>\n",
       "</table>\n",
       "</div>"
      ],
      "text/plain": [
       "              Open         High          Low        Close        Volume\n",
       "count   251.000000   251.000000   251.000000   251.000000  2.510000e+02\n",
       "mean    895.825857   901.436175   889.438606   895.834343  1.706495e+06\n",
       "std      72.996676    73.570304    72.773291    73.323386  7.622144e+05\n",
       "min     761.900000   770.500000   743.590000   753.220000  6.135490e+05\n",
       "25%     830.765000   834.450000   824.855000   829.970000  1.275832e+06\n",
       "50%     924.150000   933.360000   918.630000   923.590000  1.505486e+06\n",
       "75%     957.235000   961.995000   948.655000   958.475000  1.875032e+06\n",
       "max    1030.990000  1063.620000  1026.850000  1033.670000  5.933602e+06"
      ]
     },
     "execution_count": 106,
     "metadata": {},
     "output_type": "execute_result"
    }
   ],
   "source": [
    "# A quick way to get statistics\n",
    "dfg.describe()\n",
    "# dfg.describe()['A'][1]\n",
    "# dfg.describe()[2:3]"
   ]
  },
  {
   "cell_type": "code",
   "execution_count": 107,
   "metadata": {
    "collapsed": false
   },
   "outputs": [
    {
     "data": {
      "text/html": [
       "<div>\n",
       "<style>\n",
       "    .dataframe thead tr:only-child th {\n",
       "        text-align: right;\n",
       "    }\n",
       "\n",
       "    .dataframe thead th {\n",
       "        text-align: left;\n",
       "    }\n",
       "\n",
       "    .dataframe tbody tr th {\n",
       "        vertical-align: top;\n",
       "    }\n",
       "</style>\n",
       "<table border=\"1\" class=\"dataframe\">\n",
       "  <thead>\n",
       "    <tr style=\"text-align: right;\">\n",
       "      <th></th>\n",
       "      <th>High</th>\n",
       "      <th>Low</th>\n",
       "    </tr>\n",
       "  </thead>\n",
       "  <tbody>\n",
       "    <tr>\n",
       "      <th>mean</th>\n",
       "      <td>901.436175</td>\n",
       "      <td>889.438606</td>\n",
       "    </tr>\n",
       "    <tr>\n",
       "      <th>std</th>\n",
       "      <td>73.570304</td>\n",
       "      <td>72.773291</td>\n",
       "    </tr>\n",
       "  </tbody>\n",
       "</table>\n",
       "</div>"
      ],
      "text/plain": [
       "            High         Low\n",
       "mean  901.436175  889.438606\n",
       "std    73.570304   72.773291"
      ]
     },
     "execution_count": 107,
     "metadata": {},
     "output_type": "execute_result"
    }
   ],
   "source": [
    "dfg.describe().loc[['mean','std'],['High','Low']]"
   ]
  },
  {
   "cell_type": "code",
   "execution_count": 108,
   "metadata": {
    "collapsed": false
   },
   "outputs": [
    {
     "data": {
      "text/html": [
       "<div>\n",
       "<style>\n",
       "    .dataframe thead tr:only-child th {\n",
       "        text-align: right;\n",
       "    }\n",
       "\n",
       "    .dataframe thead th {\n",
       "        text-align: left;\n",
       "    }\n",
       "\n",
       "    .dataframe tbody tr th {\n",
       "        vertical-align: top;\n",
       "    }\n",
       "</style>\n",
       "<table border=\"1\" class=\"dataframe\">\n",
       "  <thead>\n",
       "    <tr style=\"text-align: right;\">\n",
       "      <th></th>\n",
       "      <th>Open</th>\n",
       "      <th>High</th>\n",
       "      <th>Low</th>\n",
       "      <th>Close</th>\n",
       "      <th>Volume</th>\n",
       "    </tr>\n",
       "    <tr>\n",
       "      <th>Date</th>\n",
       "      <th></th>\n",
       "      <th></th>\n",
       "      <th></th>\n",
       "      <th></th>\n",
       "      <th></th>\n",
       "    </tr>\n",
       "  </thead>\n",
       "  <tbody>\n",
       "    <tr>\n",
       "      <th>2017-10-27</th>\n",
       "      <td>1030.99</td>\n",
       "      <td>1063.62</td>\n",
       "      <td>1026.85</td>\n",
       "      <td>1033.67</td>\n",
       "      <td>5184143</td>\n",
       "    </tr>\n",
       "    <tr>\n",
       "      <th>2017-10-26</th>\n",
       "      <td>998.47</td>\n",
       "      <td>1006.51</td>\n",
       "      <td>990.47</td>\n",
       "      <td>991.42</td>\n",
       "      <td>2369838</td>\n",
       "    </tr>\n",
       "    <tr>\n",
       "      <th>2017-10-25</th>\n",
       "      <td>986.27</td>\n",
       "      <td>994.43</td>\n",
       "      <td>977.72</td>\n",
       "      <td>991.46</td>\n",
       "      <td>1528710</td>\n",
       "    </tr>\n",
       "    <tr>\n",
       "      <th>2017-10-24</th>\n",
       "      <td>986.50</td>\n",
       "      <td>989.26</td>\n",
       "      <td>977.08</td>\n",
       "      <td>988.49</td>\n",
       "      <td>1445129</td>\n",
       "    </tr>\n",
       "    <tr>\n",
       "      <th>2017-10-23</th>\n",
       "      <td>1005.18</td>\n",
       "      <td>1005.79</td>\n",
       "      <td>983.10</td>\n",
       "      <td>985.54</td>\n",
       "      <td>1639294</td>\n",
       "    </tr>\n",
       "  </tbody>\n",
       "</table>\n",
       "</div>"
      ],
      "text/plain": [
       "               Open     High      Low    Close   Volume\n",
       "Date                                                   \n",
       "2017-10-27  1030.99  1063.62  1026.85  1033.67  5184143\n",
       "2017-10-26   998.47  1006.51   990.47   991.42  2369838\n",
       "2017-10-25   986.27   994.43   977.72   991.46  1528710\n",
       "2017-10-24   986.50   989.26   977.08   988.49  1445129\n",
       "2017-10-23  1005.18  1005.79   983.10   985.54  1639294"
      ]
     },
     "execution_count": 108,
     "metadata": {},
     "output_type": "execute_result"
    }
   ],
   "source": [
    "dfg.head()"
   ]
  },
  {
   "cell_type": "code",
   "execution_count": 109,
   "metadata": {
    "collapsed": false
   },
   "outputs": [
    {
     "data": {
      "text/html": [
       "<div>\n",
       "<style>\n",
       "    .dataframe thead tr:only-child th {\n",
       "        text-align: right;\n",
       "    }\n",
       "\n",
       "    .dataframe thead th {\n",
       "        text-align: left;\n",
       "    }\n",
       "\n",
       "    .dataframe tbody tr th {\n",
       "        vertical-align: top;\n",
       "    }\n",
       "</style>\n",
       "<table border=\"1\" class=\"dataframe\">\n",
       "  <thead>\n",
       "    <tr style=\"text-align: right;\">\n",
       "      <th></th>\n",
       "      <th>Open</th>\n",
       "      <th>High</th>\n",
       "      <th>Low</th>\n",
       "      <th>Close</th>\n",
       "      <th>Volume</th>\n",
       "    </tr>\n",
       "    <tr>\n",
       "      <th>Date</th>\n",
       "      <th></th>\n",
       "      <th></th>\n",
       "      <th></th>\n",
       "      <th></th>\n",
       "      <th></th>\n",
       "    </tr>\n",
       "  </thead>\n",
       "  <tbody>\n",
       "    <tr>\n",
       "      <th>2016-10-31</th>\n",
       "      <td>822.43</td>\n",
       "      <td>822.63</td>\n",
       "      <td>808.00</td>\n",
       "      <td>809.90</td>\n",
       "      <td>2242679</td>\n",
       "    </tr>\n",
       "    <tr>\n",
       "      <th>2016-11-01</th>\n",
       "      <td>810.87</td>\n",
       "      <td>813.96</td>\n",
       "      <td>798.26</td>\n",
       "      <td>805.48</td>\n",
       "      <td>2355890</td>\n",
       "    </tr>\n",
       "    <tr>\n",
       "      <th>2016-11-02</th>\n",
       "      <td>806.76</td>\n",
       "      <td>806.76</td>\n",
       "      <td>785.00</td>\n",
       "      <td>788.42</td>\n",
       "      <td>2350736</td>\n",
       "    </tr>\n",
       "    <tr>\n",
       "      <th>2016-11-03</th>\n",
       "      <td>784.50</td>\n",
       "      <td>790.00</td>\n",
       "      <td>778.63</td>\n",
       "      <td>782.19</td>\n",
       "      <td>2175216</td>\n",
       "    </tr>\n",
       "    <tr>\n",
       "      <th>2016-11-04</th>\n",
       "      <td>771.30</td>\n",
       "      <td>788.48</td>\n",
       "      <td>771.00</td>\n",
       "      <td>781.10</td>\n",
       "      <td>1970603</td>\n",
       "    </tr>\n",
       "  </tbody>\n",
       "</table>\n",
       "</div>"
      ],
      "text/plain": [
       "              Open    High     Low   Close   Volume\n",
       "Date                                               \n",
       "2016-10-31  822.43  822.63  808.00  809.90  2242679\n",
       "2016-11-01  810.87  813.96  798.26  805.48  2355890\n",
       "2016-11-02  806.76  806.76  785.00  788.42  2350736\n",
       "2016-11-03  784.50  790.00  778.63  782.19  2175216\n",
       "2016-11-04  771.30  788.48  771.00  781.10  1970603"
      ]
     },
     "execution_count": 109,
     "metadata": {},
     "output_type": "execute_result"
    }
   ],
   "source": [
    "# We can change the index sorting\n",
    "dfg.sort_index(axis=0, ascending=True).head() # starts a year ago"
   ]
  },
  {
   "cell_type": "code",
   "execution_count": 110,
   "metadata": {
    "collapsed": false
   },
   "outputs": [
    {
     "data": {
      "text/html": [
       "<div>\n",
       "<style>\n",
       "    .dataframe thead tr:only-child th {\n",
       "        text-align: right;\n",
       "    }\n",
       "\n",
       "    .dataframe thead th {\n",
       "        text-align: left;\n",
       "    }\n",
       "\n",
       "    .dataframe tbody tr th {\n",
       "        vertical-align: top;\n",
       "    }\n",
       "</style>\n",
       "<table border=\"1\" class=\"dataframe\">\n",
       "  <thead>\n",
       "    <tr style=\"text-align: right;\">\n",
       "      <th></th>\n",
       "      <th>Open</th>\n",
       "      <th>High</th>\n",
       "      <th>Low</th>\n",
       "      <th>Close</th>\n",
       "      <th>Volume</th>\n",
       "    </tr>\n",
       "    <tr>\n",
       "      <th>Date</th>\n",
       "      <th></th>\n",
       "      <th></th>\n",
       "      <th></th>\n",
       "      <th></th>\n",
       "      <th></th>\n",
       "    </tr>\n",
       "  </thead>\n",
       "  <tbody>\n",
       "    <tr>\n",
       "      <th>2017-10-25</th>\n",
       "      <td>986.27</td>\n",
       "      <td>994.43</td>\n",
       "      <td>977.72</td>\n",
       "      <td>991.46</td>\n",
       "      <td>1528710</td>\n",
       "    </tr>\n",
       "    <tr>\n",
       "      <th>2017-10-24</th>\n",
       "      <td>986.50</td>\n",
       "      <td>989.26</td>\n",
       "      <td>977.08</td>\n",
       "      <td>988.49</td>\n",
       "      <td>1445129</td>\n",
       "    </tr>\n",
       "    <tr>\n",
       "      <th>2017-10-26</th>\n",
       "      <td>998.47</td>\n",
       "      <td>1006.51</td>\n",
       "      <td>990.47</td>\n",
       "      <td>991.42</td>\n",
       "      <td>2369838</td>\n",
       "    </tr>\n",
       "    <tr>\n",
       "      <th>2017-10-23</th>\n",
       "      <td>1005.18</td>\n",
       "      <td>1005.79</td>\n",
       "      <td>983.10</td>\n",
       "      <td>985.54</td>\n",
       "      <td>1639294</td>\n",
       "    </tr>\n",
       "    <tr>\n",
       "      <th>2017-10-27</th>\n",
       "      <td>1030.99</td>\n",
       "      <td>1063.62</td>\n",
       "      <td>1026.85</td>\n",
       "      <td>1033.67</td>\n",
       "      <td>5184143</td>\n",
       "    </tr>\n",
       "  </tbody>\n",
       "</table>\n",
       "</div>"
      ],
      "text/plain": [
       "               Open     High      Low    Close   Volume\n",
       "Date                                                   \n",
       "2017-10-25   986.27   994.43   977.72   991.46  1528710\n",
       "2017-10-24   986.50   989.26   977.08   988.49  1445129\n",
       "2017-10-26   998.47  1006.51   990.47   991.42  2369838\n",
       "2017-10-23  1005.18  1005.79   983.10   985.54  1639294\n",
       "2017-10-27  1030.99  1063.62  1026.85  1033.67  5184143"
      ]
     },
     "execution_count": 110,
     "metadata": {},
     "output_type": "execute_result"
    }
   ],
   "source": [
    "# sort by value\n",
    "dfg[0:5].sort_values(by='Open')"
   ]
  },
  {
   "cell_type": "code",
   "execution_count": 111,
   "metadata": {
    "collapsed": false
   },
   "outputs": [
    {
     "data": {
      "text/html": [
       "<div>\n",
       "<style>\n",
       "    .dataframe thead tr:only-child th {\n",
       "        text-align: right;\n",
       "    }\n",
       "\n",
       "    .dataframe thead th {\n",
       "        text-align: left;\n",
       "    }\n",
       "\n",
       "    .dataframe tbody tr th {\n",
       "        vertical-align: top;\n",
       "    }\n",
       "</style>\n",
       "<table border=\"1\" class=\"dataframe\">\n",
       "  <thead>\n",
       "    <tr style=\"text-align: right;\">\n",
       "      <th></th>\n",
       "      <th>Open</th>\n",
       "      <th>High</th>\n",
       "      <th>Low</th>\n",
       "      <th>Close</th>\n",
       "      <th>Volume</th>\n",
       "    </tr>\n",
       "  </thead>\n",
       "  <tbody>\n",
       "    <tr>\n",
       "      <th>std</th>\n",
       "      <td>72.996676</td>\n",
       "      <td>73.570304</td>\n",
       "      <td>72.773291</td>\n",
       "      <td>73.323386</td>\n",
       "      <td>762214.35854</td>\n",
       "    </tr>\n",
       "  </tbody>\n",
       "</table>\n",
       "</div>"
      ],
      "text/plain": [
       "          Open       High        Low      Close        Volume\n",
       "std  72.996676  73.570304  72.773291  73.323386  762214.35854"
      ]
     },
     "execution_count": 111,
     "metadata": {},
     "output_type": "execute_result"
    }
   ],
   "source": [
    "dfg.describe()[2:3]"
   ]
  },
  {
   "cell_type": "code",
   "execution_count": 112,
   "metadata": {
    "collapsed": false
   },
   "outputs": [
    {
     "data": {
      "text/html": [
       "<div>\n",
       "<style>\n",
       "    .dataframe thead tr:only-child th {\n",
       "        text-align: right;\n",
       "    }\n",
       "\n",
       "    .dataframe thead th {\n",
       "        text-align: left;\n",
       "    }\n",
       "\n",
       "    .dataframe tbody tr th {\n",
       "        vertical-align: top;\n",
       "    }\n",
       "</style>\n",
       "<table border=\"1\" class=\"dataframe\">\n",
       "  <thead>\n",
       "    <tr style=\"text-align: right;\">\n",
       "      <th></th>\n",
       "      <th>std</th>\n",
       "    </tr>\n",
       "  </thead>\n",
       "  <tbody>\n",
       "    <tr>\n",
       "      <th>Open</th>\n",
       "      <td>72.996676</td>\n",
       "    </tr>\n",
       "    <tr>\n",
       "      <th>High</th>\n",
       "      <td>73.570304</td>\n",
       "    </tr>\n",
       "    <tr>\n",
       "      <th>Low</th>\n",
       "      <td>72.773291</td>\n",
       "    </tr>\n",
       "    <tr>\n",
       "      <th>Close</th>\n",
       "      <td>73.323386</td>\n",
       "    </tr>\n",
       "    <tr>\n",
       "      <th>Volume</th>\n",
       "      <td>762214.358540</td>\n",
       "    </tr>\n",
       "  </tbody>\n",
       "</table>\n",
       "</div>"
      ],
      "text/plain": [
       "                  std\n",
       "Open        72.996676\n",
       "High        73.570304\n",
       "Low         72.773291\n",
       "Close       73.323386\n",
       "Volume  762214.358540"
      ]
     },
     "execution_count": 112,
     "metadata": {},
     "output_type": "execute_result"
    }
   ],
   "source": [
    "# Transpose in Pandas\n",
    "dfg.describe()[2:3].T"
   ]
  },
  {
   "cell_type": "markdown",
   "metadata": {},
   "source": [
    "### Masks and Boolean Indexing"
   ]
  },
  {
   "cell_type": "code",
   "execution_count": 113,
   "metadata": {
    "collapsed": false
   },
   "outputs": [
    {
     "data": {
      "text/html": [
       "<div>\n",
       "<style>\n",
       "    .dataframe thead tr:only-child th {\n",
       "        text-align: right;\n",
       "    }\n",
       "\n",
       "    .dataframe thead th {\n",
       "        text-align: left;\n",
       "    }\n",
       "\n",
       "    .dataframe tbody tr th {\n",
       "        vertical-align: top;\n",
       "    }\n",
       "</style>\n",
       "<table border=\"1\" class=\"dataframe\">\n",
       "  <thead>\n",
       "    <tr style=\"text-align: right;\">\n",
       "      <th></th>\n",
       "      <th>Open</th>\n",
       "      <th>High</th>\n",
       "      <th>Low</th>\n",
       "      <th>Close</th>\n",
       "      <th>Volume</th>\n",
       "    </tr>\n",
       "    <tr>\n",
       "      <th>Date</th>\n",
       "      <th></th>\n",
       "      <th></th>\n",
       "      <th></th>\n",
       "      <th></th>\n",
       "      <th></th>\n",
       "    </tr>\n",
       "  </thead>\n",
       "  <tbody>\n",
       "    <tr>\n",
       "      <th>2017-10-27</th>\n",
       "      <td>1030.99</td>\n",
       "      <td>1063.62</td>\n",
       "      <td>1026.85</td>\n",
       "      <td>1033.67</td>\n",
       "      <td>5184143</td>\n",
       "    </tr>\n",
       "    <tr>\n",
       "      <th>2017-10-26</th>\n",
       "      <td>998.47</td>\n",
       "      <td>1006.51</td>\n",
       "      <td>990.47</td>\n",
       "      <td>991.42</td>\n",
       "      <td>2369838</td>\n",
       "    </tr>\n",
       "    <tr>\n",
       "      <th>2017-10-25</th>\n",
       "      <td>986.27</td>\n",
       "      <td>994.43</td>\n",
       "      <td>977.72</td>\n",
       "      <td>991.46</td>\n",
       "      <td>1528710</td>\n",
       "    </tr>\n",
       "    <tr>\n",
       "      <th>2017-10-24</th>\n",
       "      <td>986.50</td>\n",
       "      <td>989.26</td>\n",
       "      <td>977.08</td>\n",
       "      <td>988.49</td>\n",
       "      <td>1445129</td>\n",
       "    </tr>\n",
       "    <tr>\n",
       "      <th>2017-10-23</th>\n",
       "      <td>1005.18</td>\n",
       "      <td>1005.79</td>\n",
       "      <td>983.10</td>\n",
       "      <td>985.54</td>\n",
       "      <td>1639294</td>\n",
       "    </tr>\n",
       "    <tr>\n",
       "      <th>2017-10-20</th>\n",
       "      <td>1007.05</td>\n",
       "      <td>1008.65</td>\n",
       "      <td>1002.27</td>\n",
       "      <td>1005.07</td>\n",
       "      <td>1606031</td>\n",
       "    </tr>\n",
       "    <tr>\n",
       "      <th>2017-10-19</th>\n",
       "      <td>1004.75</td>\n",
       "      <td>1007.32</td>\n",
       "      <td>997.30</td>\n",
       "      <td>1001.84</td>\n",
       "      <td>1714243</td>\n",
       "    </tr>\n",
       "    <tr>\n",
       "      <th>2017-10-18</th>\n",
       "      <td>1011.05</td>\n",
       "      <td>1016.31</td>\n",
       "      <td>1005.32</td>\n",
       "      <td>1012.74</td>\n",
       "      <td>1279780</td>\n",
       "    </tr>\n",
       "    <tr>\n",
       "      <th>2017-10-17</th>\n",
       "      <td>1007.44</td>\n",
       "      <td>1014.56</td>\n",
       "      <td>1006.05</td>\n",
       "      <td>1011.00</td>\n",
       "      <td>1012998</td>\n",
       "    </tr>\n",
       "    <tr>\n",
       "      <th>2017-10-16</th>\n",
       "      <td>1009.63</td>\n",
       "      <td>1012.00</td>\n",
       "      <td>1001.52</td>\n",
       "      <td>1009.35</td>\n",
       "      <td>1071023</td>\n",
       "    </tr>\n",
       "  </tbody>\n",
       "</table>\n",
       "</div>"
      ],
      "text/plain": [
       "               Open     High      Low    Close   Volume\n",
       "Date                                                   \n",
       "2017-10-27  1030.99  1063.62  1026.85  1033.67  5184143\n",
       "2017-10-26   998.47  1006.51   990.47   991.42  2369838\n",
       "2017-10-25   986.27   994.43   977.72   991.46  1528710\n",
       "2017-10-24   986.50   989.26   977.08   988.49  1445129\n",
       "2017-10-23  1005.18  1005.79   983.10   985.54  1639294\n",
       "2017-10-20  1007.05  1008.65  1002.27  1005.07  1606031\n",
       "2017-10-19  1004.75  1007.32   997.30  1001.84  1714243\n",
       "2017-10-18  1011.05  1016.31  1005.32  1012.74  1279780\n",
       "2017-10-17  1007.44  1014.56  1006.05  1011.00  1012998\n",
       "2017-10-16  1009.63  1012.00  1001.52  1009.35  1071023"
      ]
     },
     "execution_count": 113,
     "metadata": {},
     "output_type": "execute_result"
    }
   ],
   "source": [
    "dfg[0:10]"
   ]
  },
  {
   "cell_type": "code",
   "execution_count": 114,
   "metadata": {
    "collapsed": false
   },
   "outputs": [
    {
     "name": "stdout",
     "output_type": "stream",
     "text": [
      "Date\n",
      "2017-10-27    True\n",
      "2017-10-26    True\n",
      "2017-10-25    True\n",
      "2017-10-24    True\n",
      "2017-10-23    True\n",
      "2017-10-20    True\n",
      "2017-10-19    True\n",
      "2017-10-18    True\n",
      "2017-10-17    True\n",
      "2017-10-16    True\n",
      "Name: Open, dtype: bool\n"
     ]
    }
   ],
   "source": [
    "# mask 1\n",
    "mg1 = dfg['Open'][0:10]>941\n",
    "print (mg1)\n",
    "# dfg.Open[0:10]>941    # same thing"
   ]
  },
  {
   "cell_type": "code",
   "execution_count": 121,
   "metadata": {
    "collapsed": false
   },
   "outputs": [
    {
     "data": {
      "text/plain": [
       "Date\n",
       "2017-10-27    1030.99\n",
       "2017-10-23    1005.18\n",
       "2017-10-20    1007.05\n",
       "2017-10-19    1004.75\n",
       "2017-10-18    1011.05\n",
       "2017-10-17    1007.44\n",
       "2017-10-16    1009.63\n",
       "Name: Open, dtype: float64"
      ]
     },
     "execution_count": 121,
     "metadata": {},
     "output_type": "execute_result"
    }
   ],
   "source": [
    "dfg['Open'][0:10][dfg['Open']>1000]\n",
    "# shows only rows with opening price greater than 1000"
   ]
  },
  {
   "cell_type": "code",
   "execution_count": 127,
   "metadata": {
    "collapsed": false
   },
   "outputs": [
    {
     "data": {
      "text/html": [
       "<div>\n",
       "<style>\n",
       "    .dataframe thead tr:only-child th {\n",
       "        text-align: right;\n",
       "    }\n",
       "\n",
       "    .dataframe thead th {\n",
       "        text-align: left;\n",
       "    }\n",
       "\n",
       "    .dataframe tbody tr th {\n",
       "        vertical-align: top;\n",
       "    }\n",
       "</style>\n",
       "<table border=\"1\" class=\"dataframe\">\n",
       "  <thead>\n",
       "    <tr style=\"text-align: right;\">\n",
       "      <th></th>\n",
       "      <th>Open</th>\n",
       "      <th>High</th>\n",
       "      <th>Low</th>\n",
       "      <th>Close</th>\n",
       "      <th>Volume</th>\n",
       "    </tr>\n",
       "    <tr>\n",
       "      <th>Date</th>\n",
       "      <th></th>\n",
       "      <th></th>\n",
       "      <th></th>\n",
       "      <th></th>\n",
       "      <th></th>\n",
       "    </tr>\n",
       "  </thead>\n",
       "  <tbody>\n",
       "    <tr>\n",
       "      <th>2017-10-27</th>\n",
       "      <td>True</td>\n",
       "      <td>True</td>\n",
       "      <td>True</td>\n",
       "      <td>True</td>\n",
       "      <td>True</td>\n",
       "    </tr>\n",
       "    <tr>\n",
       "      <th>2017-10-26</th>\n",
       "      <td>False</td>\n",
       "      <td>True</td>\n",
       "      <td>False</td>\n",
       "      <td>False</td>\n",
       "      <td>True</td>\n",
       "    </tr>\n",
       "    <tr>\n",
       "      <th>2017-10-25</th>\n",
       "      <td>False</td>\n",
       "      <td>False</td>\n",
       "      <td>False</td>\n",
       "      <td>False</td>\n",
       "      <td>True</td>\n",
       "    </tr>\n",
       "    <tr>\n",
       "      <th>2017-10-24</th>\n",
       "      <td>False</td>\n",
       "      <td>False</td>\n",
       "      <td>False</td>\n",
       "      <td>False</td>\n",
       "      <td>True</td>\n",
       "    </tr>\n",
       "    <tr>\n",
       "      <th>2017-10-23</th>\n",
       "      <td>True</td>\n",
       "      <td>True</td>\n",
       "      <td>False</td>\n",
       "      <td>False</td>\n",
       "      <td>True</td>\n",
       "    </tr>\n",
       "    <tr>\n",
       "      <th>2017-10-20</th>\n",
       "      <td>True</td>\n",
       "      <td>True</td>\n",
       "      <td>True</td>\n",
       "      <td>True</td>\n",
       "      <td>True</td>\n",
       "    </tr>\n",
       "    <tr>\n",
       "      <th>2017-10-19</th>\n",
       "      <td>True</td>\n",
       "      <td>True</td>\n",
       "      <td>False</td>\n",
       "      <td>True</td>\n",
       "      <td>True</td>\n",
       "    </tr>\n",
       "    <tr>\n",
       "      <th>2017-10-18</th>\n",
       "      <td>True</td>\n",
       "      <td>True</td>\n",
       "      <td>True</td>\n",
       "      <td>True</td>\n",
       "      <td>True</td>\n",
       "    </tr>\n",
       "    <tr>\n",
       "      <th>2017-10-17</th>\n",
       "      <td>True</td>\n",
       "      <td>True</td>\n",
       "      <td>True</td>\n",
       "      <td>True</td>\n",
       "      <td>True</td>\n",
       "    </tr>\n",
       "    <tr>\n",
       "      <th>2017-10-16</th>\n",
       "      <td>True</td>\n",
       "      <td>True</td>\n",
       "      <td>True</td>\n",
       "      <td>True</td>\n",
       "      <td>True</td>\n",
       "    </tr>\n",
       "  </tbody>\n",
       "</table>\n",
       "</div>"
      ],
      "text/plain": [
       "             Open   High    Low  Close  Volume\n",
       "Date                                          \n",
       "2017-10-27   True   True   True   True    True\n",
       "2017-10-26  False   True  False  False    True\n",
       "2017-10-25  False  False  False  False    True\n",
       "2017-10-24  False  False  False  False    True\n",
       "2017-10-23   True   True  False  False    True\n",
       "2017-10-20   True   True   True   True    True\n",
       "2017-10-19   True   True  False   True    True\n",
       "2017-10-18   True   True   True   True    True\n",
       "2017-10-17   True   True   True   True    True\n",
       "2017-10-16   True   True   True   True    True"
      ]
     },
     "execution_count": 127,
     "metadata": {},
     "output_type": "execute_result"
    }
   ],
   "source": [
    "# mask 2\n",
    "mg2 = dfg[0:10]>1000\n",
    "mg2\n",
    "# replaces every value in the entire table with NaN if the value of below 1000"
   ]
  },
  {
   "cell_type": "code",
   "execution_count": 128,
   "metadata": {
    "collapsed": false
   },
   "outputs": [
    {
     "data": {
      "text/html": [
       "<div>\n",
       "<style>\n",
       "    .dataframe thead tr:only-child th {\n",
       "        text-align: right;\n",
       "    }\n",
       "\n",
       "    .dataframe thead th {\n",
       "        text-align: left;\n",
       "    }\n",
       "\n",
       "    .dataframe tbody tr th {\n",
       "        vertical-align: top;\n",
       "    }\n",
       "</style>\n",
       "<table border=\"1\" class=\"dataframe\">\n",
       "  <thead>\n",
       "    <tr style=\"text-align: right;\">\n",
       "      <th></th>\n",
       "      <th>Open</th>\n",
       "      <th>High</th>\n",
       "      <th>Low</th>\n",
       "      <th>Close</th>\n",
       "      <th>Volume</th>\n",
       "    </tr>\n",
       "    <tr>\n",
       "      <th>Date</th>\n",
       "      <th></th>\n",
       "      <th></th>\n",
       "      <th></th>\n",
       "      <th></th>\n",
       "      <th></th>\n",
       "    </tr>\n",
       "  </thead>\n",
       "  <tbody>\n",
       "    <tr>\n",
       "      <th>2017-10-27</th>\n",
       "      <td>1030.99</td>\n",
       "      <td>1063.62</td>\n",
       "      <td>1026.85</td>\n",
       "      <td>1033.67</td>\n",
       "      <td>5184143</td>\n",
       "    </tr>\n",
       "    <tr>\n",
       "      <th>2017-10-26</th>\n",
       "      <td>NaN</td>\n",
       "      <td>1006.51</td>\n",
       "      <td>NaN</td>\n",
       "      <td>NaN</td>\n",
       "      <td>2369838</td>\n",
       "    </tr>\n",
       "    <tr>\n",
       "      <th>2017-10-25</th>\n",
       "      <td>NaN</td>\n",
       "      <td>NaN</td>\n",
       "      <td>NaN</td>\n",
       "      <td>NaN</td>\n",
       "      <td>1528710</td>\n",
       "    </tr>\n",
       "    <tr>\n",
       "      <th>2017-10-24</th>\n",
       "      <td>NaN</td>\n",
       "      <td>NaN</td>\n",
       "      <td>NaN</td>\n",
       "      <td>NaN</td>\n",
       "      <td>1445129</td>\n",
       "    </tr>\n",
       "    <tr>\n",
       "      <th>2017-10-23</th>\n",
       "      <td>1005.18</td>\n",
       "      <td>1005.79</td>\n",
       "      <td>NaN</td>\n",
       "      <td>NaN</td>\n",
       "      <td>1639294</td>\n",
       "    </tr>\n",
       "    <tr>\n",
       "      <th>2017-10-20</th>\n",
       "      <td>1007.05</td>\n",
       "      <td>1008.65</td>\n",
       "      <td>1002.27</td>\n",
       "      <td>1005.07</td>\n",
       "      <td>1606031</td>\n",
       "    </tr>\n",
       "    <tr>\n",
       "      <th>2017-10-19</th>\n",
       "      <td>1004.75</td>\n",
       "      <td>1007.32</td>\n",
       "      <td>NaN</td>\n",
       "      <td>1001.84</td>\n",
       "      <td>1714243</td>\n",
       "    </tr>\n",
       "    <tr>\n",
       "      <th>2017-10-18</th>\n",
       "      <td>1011.05</td>\n",
       "      <td>1016.31</td>\n",
       "      <td>1005.32</td>\n",
       "      <td>1012.74</td>\n",
       "      <td>1279780</td>\n",
       "    </tr>\n",
       "    <tr>\n",
       "      <th>2017-10-17</th>\n",
       "      <td>1007.44</td>\n",
       "      <td>1014.56</td>\n",
       "      <td>1006.05</td>\n",
       "      <td>1011.00</td>\n",
       "      <td>1012998</td>\n",
       "    </tr>\n",
       "    <tr>\n",
       "      <th>2017-10-16</th>\n",
       "      <td>1009.63</td>\n",
       "      <td>1012.00</td>\n",
       "      <td>1001.52</td>\n",
       "      <td>1009.35</td>\n",
       "      <td>1071023</td>\n",
       "    </tr>\n",
       "  </tbody>\n",
       "</table>\n",
       "</div>"
      ],
      "text/plain": [
       "               Open     High      Low    Close   Volume\n",
       "Date                                                   \n",
       "2017-10-27  1030.99  1063.62  1026.85  1033.67  5184143\n",
       "2017-10-26      NaN  1006.51      NaN      NaN  2369838\n",
       "2017-10-25      NaN      NaN      NaN      NaN  1528710\n",
       "2017-10-24      NaN      NaN      NaN      NaN  1445129\n",
       "2017-10-23  1005.18  1005.79      NaN      NaN  1639294\n",
       "2017-10-20  1007.05  1008.65  1002.27  1005.07  1606031\n",
       "2017-10-19  1004.75  1007.32      NaN  1001.84  1714243\n",
       "2017-10-18  1011.05  1016.31  1005.32  1012.74  1279780\n",
       "2017-10-17  1007.44  1014.56  1006.05  1011.00  1012998\n",
       "2017-10-16  1009.63  1012.00  1001.52  1009.35  1071023"
      ]
     },
     "execution_count": 128,
     "metadata": {},
     "output_type": "execute_result"
    }
   ],
   "source": [
    "dfg[dfg>1000].head(10)"
   ]
  },
  {
   "cell_type": "code",
   "execution_count": 129,
   "metadata": {
    "collapsed": false
   },
   "outputs": [
    {
     "data": {
      "text/html": [
       "<div>\n",
       "<style>\n",
       "    .dataframe thead tr:only-child th {\n",
       "        text-align: right;\n",
       "    }\n",
       "\n",
       "    .dataframe thead th {\n",
       "        text-align: left;\n",
       "    }\n",
       "\n",
       "    .dataframe tbody tr th {\n",
       "        vertical-align: top;\n",
       "    }\n",
       "</style>\n",
       "<table border=\"1\" class=\"dataframe\">\n",
       "  <thead>\n",
       "    <tr style=\"text-align: right;\">\n",
       "      <th></th>\n",
       "      <th>Open</th>\n",
       "      <th>High</th>\n",
       "      <th>Low</th>\n",
       "      <th>Close</th>\n",
       "      <th>Volume</th>\n",
       "    </tr>\n",
       "    <tr>\n",
       "      <th>Date</th>\n",
       "      <th></th>\n",
       "      <th></th>\n",
       "      <th></th>\n",
       "      <th></th>\n",
       "      <th></th>\n",
       "    </tr>\n",
       "  </thead>\n",
       "  <tbody>\n",
       "    <tr>\n",
       "      <th>2017-10-27</th>\n",
       "      <td>1030.99</td>\n",
       "      <td>1063.62</td>\n",
       "      <td>1026.85</td>\n",
       "      <td>1033.67</td>\n",
       "      <td>5184143</td>\n",
       "    </tr>\n",
       "    <tr>\n",
       "      <th>2017-10-20</th>\n",
       "      <td>1007.05</td>\n",
       "      <td>1008.65</td>\n",
       "      <td>1002.27</td>\n",
       "      <td>1005.07</td>\n",
       "      <td>1606031</td>\n",
       "    </tr>\n",
       "    <tr>\n",
       "      <th>2017-10-18</th>\n",
       "      <td>1011.05</td>\n",
       "      <td>1016.31</td>\n",
       "      <td>1005.32</td>\n",
       "      <td>1012.74</td>\n",
       "      <td>1279780</td>\n",
       "    </tr>\n",
       "    <tr>\n",
       "      <th>2017-10-17</th>\n",
       "      <td>1007.44</td>\n",
       "      <td>1014.56</td>\n",
       "      <td>1006.05</td>\n",
       "      <td>1011.00</td>\n",
       "      <td>1012998</td>\n",
       "    </tr>\n",
       "    <tr>\n",
       "      <th>2017-10-16</th>\n",
       "      <td>1009.63</td>\n",
       "      <td>1012.00</td>\n",
       "      <td>1001.52</td>\n",
       "      <td>1009.35</td>\n",
       "      <td>1071023</td>\n",
       "    </tr>\n",
       "  </tbody>\n",
       "</table>\n",
       "</div>"
      ],
      "text/plain": [
       "               Open     High      Low    Close   Volume\n",
       "Date                                                   \n",
       "2017-10-27  1030.99  1063.62  1026.85  1033.67  5184143\n",
       "2017-10-20  1007.05  1008.65  1002.27  1005.07  1606031\n",
       "2017-10-18  1011.05  1016.31  1005.32  1012.74  1279780\n",
       "2017-10-17  1007.44  1014.56  1006.05  1011.00  1012998\n",
       "2017-10-16  1009.63  1012.00  1001.52  1009.35  1071023"
      ]
     },
     "execution_count": 129,
     "metadata": {},
     "output_type": "execute_result"
    }
   ],
   "source": [
    "# we can also drop all NaN values\n",
    "dfg[dfg>1000].head(10).dropna()"
   ]
  },
  {
   "cell_type": "code",
   "execution_count": 132,
   "metadata": {
    "collapsed": false
   },
   "outputs": [],
   "source": [
    "# another way to filter is with isin()\n",
    "# syntax only\n",
    "# df2[df2['E'].isin(['two','four'])]"
   ]
  },
  {
   "cell_type": "code",
   "execution_count": 133,
   "metadata": {
    "collapsed": false
   },
   "outputs": [
    {
     "data": {
      "text/plain": [
       "True"
      ]
     },
     "execution_count": 133,
     "metadata": {},
     "output_type": "execute_result"
    }
   ],
   "source": [
    "# like Numpy, sometimes you need an actual copy, not a view or slice of the same data\n",
    "dfg_same = dfg\n",
    "dfg_same is dfg"
   ]
  },
  {
   "cell_type": "code",
   "execution_count": 134,
   "metadata": {
    "collapsed": false
   },
   "outputs": [
    {
     "data": {
      "text/plain": [
       "False"
      ]
     },
     "execution_count": 134,
     "metadata": {},
     "output_type": "execute_result"
    }
   ],
   "source": [
    "dfg2 = dfg.copy()\n",
    "dfg2 is dfg"
   ]
  },
  {
   "cell_type": "markdown",
   "metadata": {},
   "source": [
    "### Setting Values\n"
   ]
  },
  {
   "cell_type": "code",
   "execution_count": 135,
   "metadata": {
    "collapsed": false
   },
   "outputs": [
    {
     "data": {
      "text/html": [
       "<div>\n",
       "<style>\n",
       "    .dataframe thead tr:only-child th {\n",
       "        text-align: right;\n",
       "    }\n",
       "\n",
       "    .dataframe thead th {\n",
       "        text-align: left;\n",
       "    }\n",
       "\n",
       "    .dataframe tbody tr th {\n",
       "        vertical-align: top;\n",
       "    }\n",
       "</style>\n",
       "<table border=\"1\" class=\"dataframe\">\n",
       "  <thead>\n",
       "    <tr style=\"text-align: right;\">\n",
       "      <th></th>\n",
       "      <th>Open</th>\n",
       "      <th>High</th>\n",
       "      <th>Low</th>\n",
       "      <th>Close</th>\n",
       "      <th>Volume</th>\n",
       "    </tr>\n",
       "    <tr>\n",
       "      <th>Date</th>\n",
       "      <th></th>\n",
       "      <th></th>\n",
       "      <th></th>\n",
       "      <th></th>\n",
       "      <th></th>\n",
       "    </tr>\n",
       "  </thead>\n",
       "  <tbody>\n",
       "    <tr>\n",
       "      <th>2017-10-27</th>\n",
       "      <td>1030.99</td>\n",
       "      <td>1063.62</td>\n",
       "      <td>1026.85</td>\n",
       "      <td>1033.67</td>\n",
       "      <td>5184143</td>\n",
       "    </tr>\n",
       "    <tr>\n",
       "      <th>2017-10-26</th>\n",
       "      <td>998.47</td>\n",
       "      <td>1006.51</td>\n",
       "      <td>990.47</td>\n",
       "      <td>991.42</td>\n",
       "      <td>2369838</td>\n",
       "    </tr>\n",
       "    <tr>\n",
       "      <th>2017-10-25</th>\n",
       "      <td>986.27</td>\n",
       "      <td>994.43</td>\n",
       "      <td>977.72</td>\n",
       "      <td>991.46</td>\n",
       "      <td>1528710</td>\n",
       "    </tr>\n",
       "    <tr>\n",
       "      <th>2017-10-24</th>\n",
       "      <td>986.50</td>\n",
       "      <td>989.26</td>\n",
       "      <td>977.08</td>\n",
       "      <td>988.49</td>\n",
       "      <td>1445129</td>\n",
       "    </tr>\n",
       "  </tbody>\n",
       "</table>\n",
       "</div>"
      ],
      "text/plain": [
       "               Open     High      Low    Close   Volume\n",
       "Date                                                   \n",
       "2017-10-27  1030.99  1063.62  1026.85  1033.67  5184143\n",
       "2017-10-26   998.47  1006.51   990.47   991.42  2369838\n",
       "2017-10-25   986.27   994.43   977.72   991.46  1528710\n",
       "2017-10-24   986.50   989.26   977.08   988.49  1445129"
      ]
     },
     "execution_count": 135,
     "metadata": {},
     "output_type": "execute_result"
    }
   ],
   "source": [
    "# Recall\n",
    "dfg.head(4)"
   ]
  },
  {
   "cell_type": "code",
   "execution_count": 136,
   "metadata": {
    "collapsed": false
   },
   "outputs": [
    {
     "data": {
      "text/html": [
       "<div>\n",
       "<style>\n",
       "    .dataframe thead tr:only-child th {\n",
       "        text-align: right;\n",
       "    }\n",
       "\n",
       "    .dataframe thead th {\n",
       "        text-align: left;\n",
       "    }\n",
       "\n",
       "    .dataframe tbody tr th {\n",
       "        vertical-align: top;\n",
       "    }\n",
       "</style>\n",
       "<table border=\"1\" class=\"dataframe\">\n",
       "  <thead>\n",
       "    <tr style=\"text-align: right;\">\n",
       "      <th></th>\n",
       "      <th>Open</th>\n",
       "      <th>High</th>\n",
       "      <th>Low</th>\n",
       "      <th>Close</th>\n",
       "      <th>Volume</th>\n",
       "    </tr>\n",
       "    <tr>\n",
       "      <th>Date</th>\n",
       "      <th></th>\n",
       "      <th></th>\n",
       "      <th></th>\n",
       "      <th></th>\n",
       "      <th></th>\n",
       "    </tr>\n",
       "  </thead>\n",
       "  <tbody>\n",
       "    <tr>\n",
       "      <th>2017-10-27</th>\n",
       "      <td>1030.99</td>\n",
       "      <td>1063.62</td>\n",
       "      <td>1026.85</td>\n",
       "      <td>1033.67</td>\n",
       "      <td>5184.143</td>\n",
       "    </tr>\n",
       "    <tr>\n",
       "      <th>2017-10-26</th>\n",
       "      <td>998.47</td>\n",
       "      <td>1006.51</td>\n",
       "      <td>990.47</td>\n",
       "      <td>991.42</td>\n",
       "      <td>2369.838</td>\n",
       "    </tr>\n",
       "    <tr>\n",
       "      <th>2017-10-25</th>\n",
       "      <td>986.27</td>\n",
       "      <td>994.43</td>\n",
       "      <td>977.72</td>\n",
       "      <td>991.46</td>\n",
       "      <td>1528.710</td>\n",
       "    </tr>\n",
       "    <tr>\n",
       "      <th>2017-10-24</th>\n",
       "      <td>986.50</td>\n",
       "      <td>989.26</td>\n",
       "      <td>977.08</td>\n",
       "      <td>988.49</td>\n",
       "      <td>1445.129</td>\n",
       "    </tr>\n",
       "  </tbody>\n",
       "</table>\n",
       "</div>"
      ],
      "text/plain": [
       "               Open     High      Low    Close    Volume\n",
       "Date                                                    \n",
       "2017-10-27  1030.99  1063.62  1026.85  1033.67  5184.143\n",
       "2017-10-26   998.47  1006.51   990.47   991.42  2369.838\n",
       "2017-10-25   986.27   994.43   977.72   991.46  1528.710\n",
       "2017-10-24   986.50   989.26   977.08   988.49  1445.129"
      ]
     },
     "execution_count": 136,
     "metadata": {},
     "output_type": "execute_result"
    }
   ],
   "source": [
    "# All the ways to view (by location, by index, iat, etc) \n",
    "# can also be used to set values\n",
    "# good for data normalization\n",
    "\n",
    "dfg['Volume'] = dfg['Volume']/1000.0\n",
    "dfg.head(4)"
   ]
  },
  {
   "cell_type": "code",
   "execution_count": 137,
   "metadata": {
    "collapsed": false
   },
   "outputs": [
    {
     "name": "stdout",
     "output_type": "stream",
     "text": [
      "               Open     High      Low    Close  Volume\n",
      "Date                                                  \n",
      "2017-10-27  1030.99  1063.62  1026.85  1033.67    9999\n",
      "2017-10-26   998.47  1006.51   990.47   991.42    9999\n",
      "2017-10-25   986.27   994.43   977.72   991.46    9999\n",
      "2017-10-24   986.50   989.26   977.08   988.49    9999\n",
      "2017-10-23  1005.18  1005.79   983.10   985.54    9999\n",
      "2017-10-20  1007.05  1008.65  1002.27  1005.07    9999\n",
      "2017-10-19  1004.75  1007.32   997.30  1001.84    9999\n",
      "2017-10-18  1011.05  1016.31  1005.32  1012.74    9999\n",
      "2017-10-17  1007.44  1014.56  1006.05  1011.00    9999\n",
      "2017-10-16  1009.63  1012.00  1001.52  1009.35    9999\n"
     ]
    }
   ],
   "source": [
    "dfg['Volume'] = 9999\n",
    "print(dfg.head(10))"
   ]
  },
  {
   "cell_type": "code",
   "execution_count": 138,
   "metadata": {
    "collapsed": false
   },
   "outputs": [
    {
     "data": {
      "text/html": [
       "<div>\n",
       "<style>\n",
       "    .dataframe thead tr:only-child th {\n",
       "        text-align: right;\n",
       "    }\n",
       "\n",
       "    .dataframe thead th {\n",
       "        text-align: left;\n",
       "    }\n",
       "\n",
       "    .dataframe tbody tr th {\n",
       "        vertical-align: top;\n",
       "    }\n",
       "</style>\n",
       "<table border=\"1\" class=\"dataframe\">\n",
       "  <thead>\n",
       "    <tr style=\"text-align: right;\">\n",
       "      <th></th>\n",
       "      <th>Open</th>\n",
       "      <th>High</th>\n",
       "      <th>Low</th>\n",
       "      <th>Close</th>\n",
       "      <th>Volume</th>\n",
       "    </tr>\n",
       "    <tr>\n",
       "      <th>Date</th>\n",
       "      <th></th>\n",
       "      <th></th>\n",
       "      <th></th>\n",
       "      <th></th>\n",
       "      <th></th>\n",
       "    </tr>\n",
       "  </thead>\n",
       "  <tbody>\n",
       "    <tr>\n",
       "      <th>2017-10-27</th>\n",
       "      <td>1030.99</td>\n",
       "      <td>0.00</td>\n",
       "      <td>1026.85</td>\n",
       "      <td>1033.67</td>\n",
       "      <td>9999</td>\n",
       "    </tr>\n",
       "    <tr>\n",
       "      <th>2017-10-26</th>\n",
       "      <td>998.47</td>\n",
       "      <td>1006.51</td>\n",
       "      <td>990.47</td>\n",
       "      <td>991.42</td>\n",
       "      <td>9999</td>\n",
       "    </tr>\n",
       "    <tr>\n",
       "      <th>2017-10-25</th>\n",
       "      <td>986.27</td>\n",
       "      <td>994.43</td>\n",
       "      <td>977.72</td>\n",
       "      <td>991.46</td>\n",
       "      <td>9999</td>\n",
       "    </tr>\n",
       "  </tbody>\n",
       "</table>\n",
       "</div>"
      ],
      "text/plain": [
       "               Open     High      Low    Close  Volume\n",
       "Date                                                  \n",
       "2017-10-27  1030.99     0.00  1026.85  1033.67    9999\n",
       "2017-10-26   998.47  1006.51   990.47   991.42    9999\n",
       "2017-10-25   986.27   994.43   977.72   991.46    9999"
      ]
     },
     "execution_count": 138,
     "metadata": {},
     "output_type": "execute_result"
    }
   ],
   "source": [
    "# Change specific entry\n",
    "dfg.iat[0,1] = 0\n",
    "dfg.head(3)"
   ]
  },
  {
   "cell_type": "code",
   "execution_count": 140,
   "metadata": {
    "collapsed": false
   },
   "outputs": [],
   "source": [
    "# Comments on dropping and filling NaN values\n",
    "# A view where we drop any rows with value NnN\n",
    "# dfg.dropna(how='any')  # this would be used to drop rows with Nan\n",
    "# df1.fillna(value=5)    # this would be used to fill NaN values with 5"
   ]
  },
  {
   "cell_type": "code",
   "execution_count": null,
   "metadata": {
    "collapsed": true
   },
   "outputs": [],
   "source": []
  },
  {
   "cell_type": "markdown",
   "metadata": {},
   "source": [
    "### More Statistics and Operations"
   ]
  },
  {
   "cell_type": "code",
   "execution_count": 141,
   "metadata": {
    "collapsed": false
   },
   "outputs": [
    {
     "data": {
      "text/plain": [
       "Open       895.825857\n",
       "High       897.198645\n",
       "Low        889.438606\n",
       "Close      895.834343\n",
       "Volume    9999.000000\n",
       "dtype: float64"
      ]
     },
     "execution_count": 141,
     "metadata": {},
     "output_type": "execute_result"
    }
   ],
   "source": [
    "# mean by column, also try var() for variance\n",
    "dfg.mean()   "
   ]
  },
  {
   "cell_type": "code",
   "execution_count": 142,
   "metadata": {
    "collapsed": false
   },
   "outputs": [
    {
     "data": {
      "text/plain": [
       "Date\n",
       "2017-10-27    2618.102\n",
       "2017-10-26    2797.174\n",
       "2017-10-25    2789.776\n",
       "2017-10-24    2788.066\n",
       "2017-10-23    2795.722\n",
       "dtype: float64"
      ]
     },
     "execution_count": 142,
     "metadata": {},
     "output_type": "execute_result"
    }
   ],
   "source": [
    "dfg[0:5].mean(1) # row means of first five rows\n",
    "# dfg.mean(axis = 1)"
   ]
  },
  {
   "cell_type": "code",
   "execution_count": 143,
   "metadata": {
    "collapsed": false
   },
   "outputs": [
    {
     "data": {
      "text/html": [
       "<div>\n",
       "<style>\n",
       "    .dataframe thead tr:only-child th {\n",
       "        text-align: right;\n",
       "    }\n",
       "\n",
       "    .dataframe thead th {\n",
       "        text-align: left;\n",
       "    }\n",
       "\n",
       "    .dataframe tbody tr th {\n",
       "        vertical-align: top;\n",
       "    }\n",
       "</style>\n",
       "<table border=\"1\" class=\"dataframe\">\n",
       "  <thead>\n",
       "    <tr style=\"text-align: right;\">\n",
       "      <th></th>\n",
       "      <th>Open</th>\n",
       "      <th>High</th>\n",
       "      <th>Low</th>\n",
       "      <th>Close</th>\n",
       "      <th>Volume</th>\n",
       "    </tr>\n",
       "    <tr>\n",
       "      <th>Date</th>\n",
       "      <th></th>\n",
       "      <th></th>\n",
       "      <th></th>\n",
       "      <th></th>\n",
       "      <th></th>\n",
       "    </tr>\n",
       "  </thead>\n",
       "  <tbody>\n",
       "    <tr>\n",
       "      <th>2017-10-27</th>\n",
       "      <td>1030.99</td>\n",
       "      <td>1063.62</td>\n",
       "      <td>1026.85</td>\n",
       "      <td>1033.67</td>\n",
       "      <td>5184143</td>\n",
       "    </tr>\n",
       "    <tr>\n",
       "      <th>2017-10-26</th>\n",
       "      <td>2029.46</td>\n",
       "      <td>2070.13</td>\n",
       "      <td>2017.32</td>\n",
       "      <td>2025.09</td>\n",
       "      <td>7553981</td>\n",
       "    </tr>\n",
       "    <tr>\n",
       "      <th>2017-10-25</th>\n",
       "      <td>3015.73</td>\n",
       "      <td>3064.56</td>\n",
       "      <td>2995.04</td>\n",
       "      <td>3016.55</td>\n",
       "      <td>9082691</td>\n",
       "    </tr>\n",
       "    <tr>\n",
       "      <th>2017-10-24</th>\n",
       "      <td>4002.23</td>\n",
       "      <td>4053.82</td>\n",
       "      <td>3972.12</td>\n",
       "      <td>4005.04</td>\n",
       "      <td>10527820</td>\n",
       "    </tr>\n",
       "    <tr>\n",
       "      <th>2017-10-23</th>\n",
       "      <td>5007.41</td>\n",
       "      <td>5059.61</td>\n",
       "      <td>4955.22</td>\n",
       "      <td>4990.58</td>\n",
       "      <td>12167114</td>\n",
       "    </tr>\n",
       "    <tr>\n",
       "      <th>2017-10-20</th>\n",
       "      <td>6014.46</td>\n",
       "      <td>6068.26</td>\n",
       "      <td>5957.49</td>\n",
       "      <td>5995.65</td>\n",
       "      <td>13773145</td>\n",
       "    </tr>\n",
       "    <tr>\n",
       "      <th>2017-10-19</th>\n",
       "      <td>7019.21</td>\n",
       "      <td>7075.58</td>\n",
       "      <td>6954.79</td>\n",
       "      <td>6997.49</td>\n",
       "      <td>15487388</td>\n",
       "    </tr>\n",
       "    <tr>\n",
       "      <th>2017-10-18</th>\n",
       "      <td>8030.26</td>\n",
       "      <td>8091.89</td>\n",
       "      <td>7960.11</td>\n",
       "      <td>8010.23</td>\n",
       "      <td>16767168</td>\n",
       "    </tr>\n",
       "    <tr>\n",
       "      <th>2017-10-17</th>\n",
       "      <td>9037.70</td>\n",
       "      <td>9106.45</td>\n",
       "      <td>8966.16</td>\n",
       "      <td>9021.23</td>\n",
       "      <td>17780166</td>\n",
       "    </tr>\n",
       "    <tr>\n",
       "      <th>2017-10-16</th>\n",
       "      <td>10047.33</td>\n",
       "      <td>10118.45</td>\n",
       "      <td>9967.68</td>\n",
       "      <td>10030.58</td>\n",
       "      <td>18851189</td>\n",
       "    </tr>\n",
       "  </tbody>\n",
       "</table>\n",
       "</div>"
      ],
      "text/plain": [
       "                Open      High      Low     Close    Volume\n",
       "Date                                                       \n",
       "2017-10-27   1030.99   1063.62  1026.85   1033.67   5184143\n",
       "2017-10-26   2029.46   2070.13  2017.32   2025.09   7553981\n",
       "2017-10-25   3015.73   3064.56  2995.04   3016.55   9082691\n",
       "2017-10-24   4002.23   4053.82  3972.12   4005.04  10527820\n",
       "2017-10-23   5007.41   5059.61  4955.22   4990.58  12167114\n",
       "2017-10-20   6014.46   6068.26  5957.49   5995.65  13773145\n",
       "2017-10-19   7019.21   7075.58  6954.79   6997.49  15487388\n",
       "2017-10-18   8030.26   8091.89  7960.11   8010.23  16767168\n",
       "2017-10-17   9037.70   9106.45  8966.16   9021.23  17780166\n",
       "2017-10-16  10047.33  10118.45  9967.68  10030.58  18851189"
      ]
     },
     "execution_count": 143,
     "metadata": {},
     "output_type": "execute_result"
    }
   ],
   "source": [
    "# Use the apply method to perform calculations on every element\n",
    "dfg2[0:10].apply(np.cumsum)"
   ]
  },
  {
   "cell_type": "markdown",
   "metadata": {},
   "source": [
    "# PlotCorrelation\n",
    "### Load several stocks"
   ]
  },
  {
   "cell_type": "code",
   "execution_count": 144,
   "metadata": {
    "collapsed": true
   },
   "outputs": [],
   "source": [
    "# Reload\n",
    "dfg = pd.read_csv('https://www.google.com/finance/historical?output=csv&q=goog')\n",
    "dfa = pd.read_csv('https://www.google.com/finance/historical?output=csv&q=aapl')\n",
    "dfm = pd.read_csv('https://www.google.com/finance/historical?output=csv&q=msft')\n",
    "dfn = pd.read_csv('https://www.google.com/finance/historical?output=csv&q=nke')\n",
    "dfb = pd.read_csv('https://www.google.com/finance/historical?output=csv&q=ba')"
   ]
  },
  {
   "cell_type": "code",
   "execution_count": 145,
   "metadata": {
    "collapsed": false
   },
   "outputs": [
    {
     "name": "stdout",
     "output_type": "stream",
     "text": [
      "        Date    Open    High     Low   Close   Volume\n",
      "0  27-Oct-17  258.26  259.50  255.80  256.46  2899168\n",
      "1  26-Oct-17  259.72  261.44  257.31  259.27  3419137\n",
      "2  25-Oct-17  264.78  266.00  254.50  258.42  7895318\n",
      "3  24-Oct-17  263.24  267.21  263.24  266.00  4401597\n",
      "4  23-Oct-17  265.13  265.98  262.14  262.32  3302395\n"
     ]
    }
   ],
   "source": [
    "print (dfb.head())"
   ]
  },
  {
   "cell_type": "code",
   "execution_count": 146,
   "metadata": {
    "collapsed": true
   },
   "outputs": [],
   "source": [
    "# Rename columns\n",
    "dfg = dfg.rename(columns = {'Close':'GOOG'})\n",
    "#print (dfg.head())\n",
    "\n",
    "dfa = dfa.rename(columns = {'Close':'AAPL'})\n",
    "#print (dfa.head())\n",
    "\n",
    "dfm = dfm.rename(columns = {'Close':'MSFT'})\n",
    "#print (dfm.head())\n",
    "\n",
    "dfn = dfn.rename(columns = {'Close':'NKE'})\n",
    "#print (dfn.head())\n",
    "\n",
    "dfb = dfb.rename(columns = {'Close':'BA'})"
   ]
  },
  {
   "cell_type": "code",
   "execution_count": 147,
   "metadata": {
    "collapsed": false
   },
   "outputs": [
    {
     "data": {
      "text/html": [
       "<div>\n",
       "<style>\n",
       "    .dataframe thead tr:only-child th {\n",
       "        text-align: right;\n",
       "    }\n",
       "\n",
       "    .dataframe thead th {\n",
       "        text-align: left;\n",
       "    }\n",
       "\n",
       "    .dataframe tbody tr th {\n",
       "        vertical-align: top;\n",
       "    }\n",
       "</style>\n",
       "<table border=\"1\" class=\"dataframe\">\n",
       "  <thead>\n",
       "    <tr style=\"text-align: right;\">\n",
       "      <th></th>\n",
       "      <th>Date</th>\n",
       "      <th>Open</th>\n",
       "      <th>High</th>\n",
       "      <th>Low</th>\n",
       "      <th>BA</th>\n",
       "      <th>Volume</th>\n",
       "    </tr>\n",
       "  </thead>\n",
       "  <tbody>\n",
       "    <tr>\n",
       "      <th>0</th>\n",
       "      <td>27-Oct-17</td>\n",
       "      <td>258.26</td>\n",
       "      <td>259.50</td>\n",
       "      <td>255.80</td>\n",
       "      <td>256.46</td>\n",
       "      <td>2899168</td>\n",
       "    </tr>\n",
       "    <tr>\n",
       "      <th>1</th>\n",
       "      <td>26-Oct-17</td>\n",
       "      <td>259.72</td>\n",
       "      <td>261.44</td>\n",
       "      <td>257.31</td>\n",
       "      <td>259.27</td>\n",
       "      <td>3419137</td>\n",
       "    </tr>\n",
       "  </tbody>\n",
       "</table>\n",
       "</div>"
      ],
      "text/plain": [
       "        Date    Open    High     Low      BA   Volume\n",
       "0  27-Oct-17  258.26  259.50  255.80  256.46  2899168\n",
       "1  26-Oct-17  259.72  261.44  257.31  259.27  3419137"
      ]
     },
     "execution_count": 147,
     "metadata": {},
     "output_type": "execute_result"
    }
   ],
   "source": [
    "dfb.head(2)"
   ]
  },
  {
   "cell_type": "code",
   "execution_count": 148,
   "metadata": {
    "collapsed": false
   },
   "outputs": [
    {
     "data": {
      "text/html": [
       "<div>\n",
       "<style>\n",
       "    .dataframe thead tr:only-child th {\n",
       "        text-align: right;\n",
       "    }\n",
       "\n",
       "    .dataframe thead th {\n",
       "        text-align: left;\n",
       "    }\n",
       "\n",
       "    .dataframe tbody tr th {\n",
       "        vertical-align: top;\n",
       "    }\n",
       "</style>\n",
       "<table border=\"1\" class=\"dataframe\">\n",
       "  <thead>\n",
       "    <tr style=\"text-align: right;\">\n",
       "      <th></th>\n",
       "      <th>Date</th>\n",
       "      <th>GOOG</th>\n",
       "      <th>AAPL</th>\n",
       "      <th>MSFT</th>\n",
       "      <th>NKE</th>\n",
       "      <th>BA</th>\n",
       "    </tr>\n",
       "  </thead>\n",
       "  <tbody>\n",
       "    <tr>\n",
       "      <th>0</th>\n",
       "      <td>27-Oct-17</td>\n",
       "      <td>1019.27</td>\n",
       "      <td>163.05</td>\n",
       "      <td>83.81</td>\n",
       "      <td>55.96</td>\n",
       "      <td>256.46</td>\n",
       "    </tr>\n",
       "    <tr>\n",
       "      <th>1</th>\n",
       "      <td>26-Oct-17</td>\n",
       "      <td>972.56</td>\n",
       "      <td>157.41</td>\n",
       "      <td>78.76</td>\n",
       "      <td>56.81</td>\n",
       "      <td>259.27</td>\n",
       "    </tr>\n",
       "    <tr>\n",
       "      <th>2</th>\n",
       "      <td>25-Oct-17</td>\n",
       "      <td>973.33</td>\n",
       "      <td>156.41</td>\n",
       "      <td>78.63</td>\n",
       "      <td>54.94</td>\n",
       "      <td>258.42</td>\n",
       "    </tr>\n",
       "    <tr>\n",
       "      <th>3</th>\n",
       "      <td>24-Oct-17</td>\n",
       "      <td>970.54</td>\n",
       "      <td>157.10</td>\n",
       "      <td>78.86</td>\n",
       "      <td>53.42</td>\n",
       "      <td>266.00</td>\n",
       "    </tr>\n",
       "    <tr>\n",
       "      <th>4</th>\n",
       "      <td>23-Oct-17</td>\n",
       "      <td>968.45</td>\n",
       "      <td>156.17</td>\n",
       "      <td>78.83</td>\n",
       "      <td>53.66</td>\n",
       "      <td>262.32</td>\n",
       "    </tr>\n",
       "  </tbody>\n",
       "</table>\n",
       "</div>"
      ],
      "text/plain": [
       "        Date     GOOG    AAPL   MSFT    NKE      BA\n",
       "0  27-Oct-17  1019.27  163.05  83.81  55.96  256.46\n",
       "1  26-Oct-17   972.56  157.41  78.76  56.81  259.27\n",
       "2  25-Oct-17   973.33  156.41  78.63  54.94  258.42\n",
       "3  24-Oct-17   970.54  157.10  78.86  53.42  266.00\n",
       "4  23-Oct-17   968.45  156.17  78.83  53.66  262.32"
      ]
     },
     "execution_count": 148,
     "metadata": {},
     "output_type": "execute_result"
    }
   ],
   "source": [
    "# Lets merge some tables\n",
    "# They will all merge on the common column Date\n",
    "\n",
    "df = dfg[['Date','GOOG']].merge(dfa[['Date','AAPL']])\n",
    "df = df.merge(dfm[['Date','MSFT']])\n",
    "#df = df.merge(dfd[['Date','DIS']])\n",
    "df = df.merge(dfn[['Date','NKE']])\n",
    "df = df.merge(dfb[['Date','BA']])\n",
    "\n",
    "df.head()"
   ]
  },
  {
   "cell_type": "code",
   "execution_count": 149,
   "metadata": {
    "collapsed": false
   },
   "outputs": [
    {
     "data": {
      "text/html": [
       "<div>\n",
       "<style>\n",
       "    .dataframe thead tr:only-child th {\n",
       "        text-align: right;\n",
       "    }\n",
       "\n",
       "    .dataframe thead th {\n",
       "        text-align: left;\n",
       "    }\n",
       "\n",
       "    .dataframe tbody tr th {\n",
       "        vertical-align: top;\n",
       "    }\n",
       "</style>\n",
       "<table border=\"1\" class=\"dataframe\">\n",
       "  <thead>\n",
       "    <tr style=\"text-align: right;\">\n",
       "      <th></th>\n",
       "      <th>GOOG</th>\n",
       "      <th>AAPL</th>\n",
       "      <th>MSFT</th>\n",
       "      <th>NKE</th>\n",
       "      <th>BA</th>\n",
       "    </tr>\n",
       "    <tr>\n",
       "      <th>Date</th>\n",
       "      <th></th>\n",
       "      <th></th>\n",
       "      <th></th>\n",
       "      <th></th>\n",
       "      <th></th>\n",
       "    </tr>\n",
       "  </thead>\n",
       "  <tbody>\n",
       "    <tr>\n",
       "      <th>2017-10-27</th>\n",
       "      <td>1019.27</td>\n",
       "      <td>163.05</td>\n",
       "      <td>83.81</td>\n",
       "      <td>55.96</td>\n",
       "      <td>256.46</td>\n",
       "    </tr>\n",
       "    <tr>\n",
       "      <th>2017-10-26</th>\n",
       "      <td>972.56</td>\n",
       "      <td>157.41</td>\n",
       "      <td>78.76</td>\n",
       "      <td>56.81</td>\n",
       "      <td>259.27</td>\n",
       "    </tr>\n",
       "    <tr>\n",
       "      <th>2017-10-25</th>\n",
       "      <td>973.33</td>\n",
       "      <td>156.41</td>\n",
       "      <td>78.63</td>\n",
       "      <td>54.94</td>\n",
       "      <td>258.42</td>\n",
       "    </tr>\n",
       "    <tr>\n",
       "      <th>2017-10-24</th>\n",
       "      <td>970.54</td>\n",
       "      <td>157.10</td>\n",
       "      <td>78.86</td>\n",
       "      <td>53.42</td>\n",
       "      <td>266.00</td>\n",
       "    </tr>\n",
       "    <tr>\n",
       "      <th>2017-10-23</th>\n",
       "      <td>968.45</td>\n",
       "      <td>156.17</td>\n",
       "      <td>78.83</td>\n",
       "      <td>53.66</td>\n",
       "      <td>262.32</td>\n",
       "    </tr>\n",
       "  </tbody>\n",
       "</table>\n",
       "</div>"
      ],
      "text/plain": [
       "               GOOG    AAPL   MSFT    NKE      BA\n",
       "Date                                             \n",
       "2017-10-27  1019.27  163.05  83.81  55.96  256.46\n",
       "2017-10-26   972.56  157.41  78.76  56.81  259.27\n",
       "2017-10-25   973.33  156.41  78.63  54.94  258.42\n",
       "2017-10-24   970.54  157.10  78.86  53.42  266.00\n",
       "2017-10-23   968.45  156.17  78.83  53.66  262.32"
      ]
     },
     "execution_count": 149,
     "metadata": {},
     "output_type": "execute_result"
    }
   ],
   "source": [
    "df['Date'] = pd.to_datetime(df['Date'])\n",
    "df = df.set_index('Date')\n",
    "df.head()"
   ]
  },
  {
   "cell_type": "code",
   "execution_count": 150,
   "metadata": {
    "collapsed": false
   },
   "outputs": [
    {
     "data": {
      "text/plain": [
       "<matplotlib.axes._subplots.AxesSubplot at 0x10eebb6d8>"
      ]
     },
     "execution_count": 150,
     "metadata": {},
     "output_type": "execute_result"
    },
    {
     "data": {
      "image/png": "[encoded data removed]",
      "text/plain": [
       "<matplotlib.figure.Figure at 0x10eeac4a8>"
      ]
     },
     "metadata": {},
     "output_type": "display_data"
    }
   ],
   "source": [
    "df.plot()"
   ]
  },
  {
   "cell_type": "code",
   "execution_count": 151,
   "metadata": {
    "collapsed": false
   },
   "outputs": [
    {
     "data": {
      "text/plain": [
       "<matplotlib.axes._subplots.AxesSubplot at 0x113aebd68>"
      ]
     },
     "execution_count": 151,
     "metadata": {},
     "output_type": "execute_result"
    },
    {
     "data": {
      "image/png": "[encoded data removed]",
      "text/plain": [
       "<matplotlib.figure.Figure at 0x113af8588>"
      ]
     },
     "metadata": {},
     "output_type": "display_data"
    }
   ],
   "source": [
    "df['2017'][['AAPL','MSFT']].plot()"
   ]
  },
  {
   "cell_type": "code",
   "execution_count": 152,
   "metadata": {
    "collapsed": false
   },
   "outputs": [
    {
     "data": {
      "text/html": [
       "<div>\n",
       "<style>\n",
       "    .dataframe thead tr:only-child th {\n",
       "        text-align: right;\n",
       "    }\n",
       "\n",
       "    .dataframe thead th {\n",
       "        text-align: left;\n",
       "    }\n",
       "\n",
       "    .dataframe tbody tr th {\n",
       "        vertical-align: top;\n",
       "    }\n",
       "</style>\n",
       "<table border=\"1\" class=\"dataframe\">\n",
       "  <thead>\n",
       "    <tr style=\"text-align: right;\">\n",
       "      <th></th>\n",
       "      <th>GOOG</th>\n",
       "      <th>AAPL</th>\n",
       "      <th>MSFT</th>\n",
       "      <th>NKE</th>\n",
       "      <th>BA</th>\n",
       "    </tr>\n",
       "  </thead>\n",
       "  <tbody>\n",
       "    <tr>\n",
       "      <th>GOOG</th>\n",
       "      <td>1.000000</td>\n",
       "      <td>0.891214</td>\n",
       "      <td>0.930846</td>\n",
       "      <td>0.243598</td>\n",
       "      <td>0.814253</td>\n",
       "    </tr>\n",
       "    <tr>\n",
       "      <th>AAPL</th>\n",
       "      <td>0.891214</td>\n",
       "      <td>1.000000</td>\n",
       "      <td>0.895596</td>\n",
       "      <td>0.420657</td>\n",
       "      <td>0.842176</td>\n",
       "    </tr>\n",
       "    <tr>\n",
       "      <th>MSFT</th>\n",
       "      <td>0.930846</td>\n",
       "      <td>0.895596</td>\n",
       "      <td>1.000000</td>\n",
       "      <td>0.258769</td>\n",
       "      <td>0.945093</td>\n",
       "    </tr>\n",
       "    <tr>\n",
       "      <th>NKE</th>\n",
       "      <td>0.243598</td>\n",
       "      <td>0.420657</td>\n",
       "      <td>0.258769</td>\n",
       "      <td>1.000000</td>\n",
       "      <td>0.260557</td>\n",
       "    </tr>\n",
       "    <tr>\n",
       "      <th>BA</th>\n",
       "      <td>0.814253</td>\n",
       "      <td>0.842176</td>\n",
       "      <td>0.945093</td>\n",
       "      <td>0.260557</td>\n",
       "      <td>1.000000</td>\n",
       "    </tr>\n",
       "  </tbody>\n",
       "</table>\n",
       "</div>"
      ],
      "text/plain": [
       "          GOOG      AAPL      MSFT       NKE        BA\n",
       "GOOG  1.000000  0.891214  0.930846  0.243598  0.814253\n",
       "AAPL  0.891214  1.000000  0.895596  0.420657  0.842176\n",
       "MSFT  0.930846  0.895596  1.000000  0.258769  0.945093\n",
       "NKE   0.243598  0.420657  0.258769  1.000000  0.260557\n",
       "BA    0.814253  0.842176  0.945093  0.260557  1.000000"
      ]
     },
     "execution_count": 152,
     "metadata": {},
     "output_type": "execute_result"
    }
   ],
   "source": [
    "# show a correlation matrix (pearson)\n",
    "crl = df.corr()\n",
    "crl"
   ]
  },
  {
   "cell_type": "code",
   "execution_count": null,
   "metadata": {
    "collapsed": true
   },
   "outputs": [],
   "source": [
    "crl.sort_values(by='GOOG',ascending=False)"
   ]
  }
 ],
 "metadata": {
  "anaconda-cloud": {},
  "kernelspec": {
   "display_name": "DemoWk4",
   "language": "python",
   "name": "demowk4"
  },
  "language_info": {
   "codemirror_mode": {
    "name": "ipython",
    "version": 3
   },
   "file_extension": ".py",
   "mimetype": "text/x-python",
   "name": "python",
   "nbconvert_exporter": "python",
   "pygments_lexer": "ipython3",
   "version": "3.4.5"
  }
 },
 "nbformat": 4,
 "nbformat_minor": 1
}
